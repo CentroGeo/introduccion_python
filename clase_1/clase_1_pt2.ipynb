{
 "cells": [
  {
   "cell_type": "markdown",
   "metadata": {},
   "source": [
    "# Análisis de Datos Geoespaciales con Programación\n",
    "## Unidad II - Introducción a la Programación y Lenguaje Python\n",
    "### Clase No. 1 - Parte 2\n",
    "\n",
    "### Control de Flujo - `if`, `for` y `while`\n",
    "Tanto en *Python*, como en otros Lenguajes de Programación, existen dos bloques fundamentales para la estructuración de cualquier tipo de código: las declaraciones realizadas a través de `if` (Sí...) y los bucles o procesos dictados por `for` (Para...). Aunque en este curso en particular no serán utilizados en gran extensión, conocerlos resulta importante pues, además de ser la base de muchas de las librerías que se utilizarán, también facilitan el aprendizaje de otros Lenguajes de Programación, así como pueden ser utilizadas para añadir cierta funcionalidad adicional a los métodos estudiados.\n",
    "\n",
    "#### Declaraciones con `if`\n",
    "Tal y como su nombre lo indica, la función de `if` (Sí...) es restringir la ejecución de ciertas acciones dentro del código, permitiendo que se realicen sí, y sólo sí, se cumple una condición en particular, la cual es establecida por el programador. Para ejemplificar su función, se utilizarán las siguientes listas:"
   ]
  },
  {
   "cell_type": "code",
   "execution_count": 1,
   "metadata": {},
   "outputs": [],
   "source": [
    "lista_1 = [1 , 2 , 3 , 4 , 5]\n",
    "lista_2 = [5 , 6 , 7 , 8 , 9]"
   ]
  },
  {
   "cell_type": "markdown",
   "metadata": {},
   "source": [
    "En la siguiente celda se establece que, si en `lista_1` existe el Número Entero `3`, entonces se permitirá que aparezca un mensaje:"
   ]
  },
  {
   "cell_type": "code",
   "execution_count": 2,
   "metadata": {},
   "outputs": [
    {
     "name": "stdout",
     "output_type": "stream",
     "text": [
      "¡El número existe dentro de la lista!\n"
     ]
    }
   ],
   "source": [
    "if 3 in lista_1:\n",
    "    print('¡El número existe dentro de la lista!')"
   ]
  },
  {
   "cell_type": "markdown",
   "metadata": {},
   "source": [
    "La función que hace al mensaje aparecer es `print()`, y simplemente arroja como mensaje lo que se coloque entre sus paréntesis. La condición se encuentra establecida por `3 in lista_1`; en la sección anterior se observó que este comando, por si mismo, arroja un *Booleano* que puede ser `True` o `False` y, dado que en este caso el resultado sería `True`, entonces *Python* ejecuta lo que encuentra inmediatamente después. Pero, ¿qué ocurre si se coloca la `lista_2`?"
   ]
  },
  {
   "cell_type": "code",
   "execution_count": 3,
   "metadata": {},
   "outputs": [],
   "source": [
    "if 3 in lista_2:\n",
    "    print('¡El número existe dentro de la lista!')"
   ]
  },
  {
   "cell_type": "markdown",
   "metadata": {},
   "source": [
    "Ahora no existe resultado alguno; dado que en `lista_2` no existe el Número Entero `3`, la condición de ejeción nos arroja `False` y, por ende, *Python* no ejecuta lo que se encuentra después del `if`.\n",
    "\n",
    "Es fácil distinguir el código que se encuentra condicionado por el `if` gracias a que, en *Python*, éste se encuentra *Indentado*, es decir, posee una ligera separación del lateral de la celda; si éste no se encontrase indentado, *Python* automáticamente detectaría un error. También es importante notar los dos puntos `:` colocados después de la condición de ejecución. Para añadir código que no se encuentre condicionado, simplemente basta con escribirlo sin la indentación correspondiente:"
   ]
  },
  {
   "cell_type": "code",
   "execution_count": 4,
   "metadata": {},
   "outputs": [
    {
     "name": "stdout",
     "output_type": "stream",
     "text": [
      "Esta oración se encuentra fuera del if\n"
     ]
    }
   ],
   "source": [
    "if 3 in lista_2:\n",
    "    print('¡El número existe dentro de la lista!')\n",
    "    \n",
    "print('Esta oración se encuentra fuera del if')"
   ]
  },
  {
   "cell_type": "markdown",
   "metadata": {},
   "source": [
    "Comúnmente, `if` se encuentra acompañado por `else`, que funciona de forma similar pero únicamente le dice a *Python* cuál es el código que debe de ejecutar en caso de que la condición ejecutora original no sea cumplida. El ejemplo anterior puede ser complementado a través de la adición de `else`:"
   ]
  },
  {
   "cell_type": "code",
   "execution_count": 5,
   "metadata": {},
   "outputs": [
    {
     "name": "stdout",
     "output_type": "stream",
     "text": [
      "El número no existe dentro de la lista...\n",
      "Esta oración se encuentra fuera del if\n"
     ]
    }
   ],
   "source": [
    "if 3 in lista_2:\n",
    "    print('¡El número existe dentro de la lista!')\n",
    "else:\n",
    "    print('El número no existe dentro de la lista...')\n",
    "    \n",
    "print('Esta oración se encuentra fuera del if')"
   ]
  },
  {
   "cell_type": "markdown",
   "metadata": {},
   "source": [
    "Nótese que `else` también requiere de los dos puntos `:` para saber cuál es el código que deberá de ejecutar, así como de una identación similar a la de `if` para envolver el código que le corresponde. También es importante notar que la adición de `else` no es obligatoria; en celdas anteriores, el código se ejecutó perfectamente sin la adición de éste, pues únicamente funciona como complemento para el `if`. Si aplicásemos este mismo código con la `lista_1`:"
   ]
  },
  {
   "cell_type": "code",
   "execution_count": 6,
   "metadata": {},
   "outputs": [
    {
     "name": "stdout",
     "output_type": "stream",
     "text": [
      "¡El número existe dentro de la lista!\n",
      "Esta oración se encuentra fuera del if\n"
     ]
    }
   ],
   "source": [
    "if 3 in lista_1:\n",
    "    print('¡El número existe dentro de la lista!')\n",
    "else:\n",
    "    print('El número no existe dentro de la lista...')\n",
    "    \n",
    "print('Esta oración se encuentra fuera del if')"
   ]
  },
  {
   "cell_type": "markdown",
   "metadata": {},
   "source": [
    "En este caso, *Python* ignoró completamente lo que se encuentra contenido por `else` debido a que la condición inicial de `if` fue cumplida satisfactoriamente, demostrando así la característica de complementareidad de `else`.\n",
    "\n",
    "Existe un tercer acompañante a `if`, llamado `elif`, utilizado en caso de que la condición ejecutora original no fuese cumplida, pero resulta de utilidad utilizar una segunda condición para comprobar algún detalle. Por ejemplo, en el siguiente código se verifica la existencia de un número en las dos listas creadas anteriormente:"
   ]
  },
  {
   "cell_type": "code",
   "execution_count": 7,
   "metadata": {},
   "outputs": [
    {
     "name": "stdout",
     "output_type": "stream",
     "text": [
      "¡El número existe en la segunda lista!\n"
     ]
    }
   ],
   "source": [
    "if 7 in lista_1:\n",
    "    print('¡El número existe en la primera lista!')\n",
    "elif 7 in lista_2:\n",
    "    print('¡El número existe en la segunda lista!')\n",
    "else:\n",
    "    print('El número no existe en ninguna de las listas...')"
   ]
  },
  {
   "cell_type": "markdown",
   "metadata": {},
   "source": [
    "En el ejemplo anterior, la condición colocada al `if` original, `4 in lista_1`, no fue cumplida, pero `4 in lista_2`, establecida inmediatamente después a través de `elif` sí se cumple, por lo que *Python* ejecuta lo que la identación le determine realizar. ¿Qué ocurriría si se intenta buscar un número no existente en ninguna de las dos listas?"
   ]
  },
  {
   "cell_type": "code",
   "execution_count": 8,
   "metadata": {},
   "outputs": [
    {
     "name": "stdout",
     "output_type": "stream",
     "text": [
      "El número no existe en ninguna de las listas...\n"
     ]
    }
   ],
   "source": [
    "if 10 in lista_1:\n",
    "    print('¡El número existe en la primera lista!')\n",
    "elif 10 in lista_2:\n",
    "    print('¡El número existe en la segunda lista!')\n",
    "else:\n",
    "    print('El número no existe en ninguna de las listas...')"
   ]
  },
  {
   "cell_type": "markdown",
   "metadata": {},
   "source": [
    "Dado que el Número Entero `10` no existe en ninguna de las listas, *Python* ejecuta lo marcado por `else`; puede observarse entonces que `if` y sus complementos funcionan de forma secuencial, revisando condición por condición hasta que alguna sea cumplida o, si ninguna lo hace, ejecutar lo contenido por `else`, en caso de que exista. Este método ofrece la ventaja de que pueden añadirse tantos `elif` (y por ende, condiciones) como sean necesarias comprobar."
   ]
  },
  {
   "cell_type": "markdown",
   "metadata": {},
   "source": [
    "##### Operadores Relacionales\n",
    "A través de `if` es posible establecer un sinnúmero de condiciones que permita controlar con gran libertad las partes del código que deberán de ejecutarse dado el comportamiento de las variables; siempre y cuando el resultado de la condición sea un *Booleano* (`True` o `False`), es posible utilizar cualquier condición.\n",
    "\n",
    "Unos de los recursos más utilizados para establecer condiciones son los *Operadores Relacionales*, utilizados ampliamente en todos los Lenguajes de Programación, y que permiten realizar comparaciones simples entre datos. Éstos son:\n",
    "* *Mayor Qué* `>`\n",
    "* *Mayor o Igual Que* `=>`\n",
    "* *Menor Que* `<`\n",
    "* *Menor o Igual Que* `<=`\n",
    "* *Igual Que* `==`\n",
    "* *Diferente Que* `!=` o `<>`\n",
    "\n",
    "Es importante notar cómo *Igual Que* se encuentra representado por dos signos de igual (`==`) en lugar de sólo uno, ya que en *Python* un solo signo `=` representa la asignación de variables. A partir de éstos, es posible realizar comparaciones simples como:"
   ]
  },
  {
   "cell_type": "code",
   "execution_count": 9,
   "metadata": {},
   "outputs": [
    {
     "data": {
      "text/plain": [
       "True"
      ]
     },
     "execution_count": 9,
     "metadata": {},
     "output_type": "execute_result"
    }
   ],
   "source": [
    "10 > 2"
   ]
  },
  {
   "cell_type": "markdown",
   "metadata": {},
   "source": [
    "Y, dado que el resultado es un *Booleano*, es posible colocarlo como condición dentro de un `if`:"
   ]
  },
  {
   "cell_type": "code",
   "execution_count": 10,
   "metadata": {},
   "outputs": [
    {
     "name": "stdout",
     "output_type": "stream",
     "text": [
      "¡Existen muchas condiciones que pueden utilizarse en un if\n"
     ]
    }
   ],
   "source": [
    "if 10 > 2:\n",
    "    print('¡Existen muchas condiciones que pueden utilizarse en un if')"
   ]
  },
  {
   "cell_type": "markdown",
   "metadata": {},
   "source": [
    "El código se vuelve más dinámico si, en lugar de realizar comparaciones entre valores directos, se utilizan variables que pueden cambiar su valor dependiendo de lo que ocurra en el código:"
   ]
  },
  {
   "cell_type": "code",
   "execution_count": 11,
   "metadata": {},
   "outputs": [
    {
     "name": "stdout",
     "output_type": "stream",
     "text": [
      "La primera variable es menor o igual a la segunda\n"
     ]
    }
   ],
   "source": [
    "variable_1 = ((2 * 9) + 3) * ((6 * 2) - 10)\n",
    "variable_2 = ((4 * 8) + 20) * ((3 * 9) - 15)\n",
    "\n",
    "if variable_1 <= variable_2:\n",
    "    print('La primera variable es menor o igual a la segunda')"
   ]
  },
  {
   "cell_type": "markdown",
   "metadata": {},
   "source": [
    "Mientras que los operadores relacionados con *Mayor Qué* y *Menor Qué* se utilizan casi exclusivamente con valores numéricos, *Igual Que* y *Diferente Que* poseen mucha más versatilidad, pues pueden ocuparse con otros tipos de datos:"
   ]
  },
  {
   "cell_type": "code",
   "execution_count": 12,
   "metadata": {},
   "outputs": [
    {
     "name": "stdout",
     "output_type": "stream",
     "text": [
      "¡La Cebra se encuentra en la Variable 2!\n"
     ]
    }
   ],
   "source": [
    "# Utilizando el Operador Relacional de Igual Que (==) con una Cadena de Texto\n",
    "variable_1 = 'Venado'\n",
    "variable_2 = 'Cebra'\n",
    "\n",
    "if variable_1 == 'Cebra':\n",
    "    print('¡La Cebra se encuentra en la Variable 1!')\n",
    "elif variable_2 == 'Cebra':\n",
    "    print('¡La Cebra se encuentra en la Variable 2!')\n",
    "else:\n",
    "    print('No hay ninguna cebra en las variables...')"
   ]
  },
  {
   "cell_type": "markdown",
   "metadata": {},
   "source": [
    "En el caso anterior, es importante recordar que, dado que es una Cadena de Texto, si `variable_2` hubiese sido escrita como `cebra` o `CEBRA`, todas las comparaciones utilizadas hubieran dado como resultado `False`, ya que necesariamente la Cadena de Texto debe de ser escrita como `Cebra` para que *Python* pueda aceptar la comparación como verdadera. Claro está que, en algunas aplicaciones, esta minuciosidad del lenguaje puede resultar problemática; posteriormente se estudiarán algunas técnicas que ayudan a solvertarlo.\n",
    "\n",
    "##### Operadores Lógicos\n",
    "En algunos casos, no se necesita que una sola condición sea cumplida o no para permitir que una parte del código se ejecute; en algunos casos, puede que se requieran múltiples condiciones al mismo tiempo o, inclusive, que una de varias posibilidades se logre. Para esto es que existen los *Operadores Lógicos*, los cuales son:\n",
    "\n",
    "* `and` - Ayuda a determinar que dos o más condiciones sean cumplidas al mismo tiempo para poder arrojar `True`; cuando sólo una de las condiciones no es cumplida, entonces se tendrá un `False`.\n",
    "* `or` - Permite evaluar múltiples condiciones al mismo tiempo y, con que una de ellas se cumpla, se tendrá un `True`; si ninguna de las condiciones es cumplida, entonces se tendrá un `False`.\n",
    "* `not` - Ayuda a revertir las condiciones de cumplimiento de una condición. De forma simple, puede entenderse como un operador que añade la palabra *no* a cualquier condición; por ejemplo, `not ==` se lee como *No sea igual que*, lo cual equivale a operador *Diferente Que* (`!=`).\n",
    "\n",
    "Como tal, estos operadores pueden ser utilizados para crear condiciones más complejas; recordando las dos variables de listas creadas anteriormente:"
   ]
  },
  {
   "cell_type": "code",
   "execution_count": 13,
   "metadata": {},
   "outputs": [
    {
     "name": "stdout",
     "output_type": "stream",
     "text": [
      "[1, 2, 3, 4, 5]\n",
      "[5, 6, 7, 8, 9]\n"
     ]
    }
   ],
   "source": [
    "print(lista_1)\n",
    "print(lista_2)"
   ]
  },
  {
   "cell_type": "markdown",
   "metadata": {},
   "source": [
    "Se puede establecer una condición para encontrar si, por ejemplo, un mismo número se encuentra en ambas listas:"
   ]
  },
  {
   "cell_type": "code",
   "execution_count": 14,
   "metadata": {},
   "outputs": [
    {
     "name": "stdout",
     "output_type": "stream",
     "text": [
      "¡El número se encuentra en ambas listas!\n"
     ]
    }
   ],
   "source": [
    "# Generando una condición a través de 'and'\n",
    "if (5 in lista_1) and (5 in lista_2):\n",
    "    print('¡El número se encuentra en ambas listas!')"
   ]
  },
  {
   "cell_type": "markdown",
   "metadata": {},
   "source": [
    "Para que el código condicionado por `if` puede ejecutarse, forzosamente las dos condiciones escritas deben de ser cumplidas, dado el uso del Operador `and`. Si una de ellas no hubiese resultado ser verdadera, entonces el código no se hubiera ejecutado.\n",
    "\n",
    "Cabe notar que, en el ejemplo anterior, los paréntesis no son necesarios al momento de escribir la condición general, pues la declaración puede escribirse simplemente como `5 in lista_1 and 5 in lista_2`; sin embargo, la adición de paréntesis ayuda a distinguir de forma fácil entre cada una de las condiciones separadas por el Operador Lógico, además de que permite asegurar que *Python* interprete las mismas de la manera que deseamos.\n",
    "\n",
    "Otra condición que puede estudiarse es determinar si un número se encuentra en alguna de las listas:"
   ]
  },
  {
   "cell_type": "code",
   "execution_count": 15,
   "metadata": {},
   "outputs": [
    {
     "name": "stdout",
     "output_type": "stream",
     "text": [
      "El número se encuentra en, al menos, una de las listas\n"
     ]
    }
   ],
   "source": [
    "# Generando una condición a través de 'or'\n",
    "if (7 in lista_1) or (7 in lista_2):\n",
    "    print('El número se encuentra en, al menos, una de las listas')"
   ]
  },
  {
   "cell_type": "markdown",
   "metadata": {},
   "source": [
    "En el caso anterior, `7 in lista_1` no es una condición que resulte verdadera, pero `7 in lista_2` si lo es, lo que permite que el código condicionado pueda ser ejecutado. Gracias al uso del operador `or`, sólo una de las condiciones listadas necesita ser verdadera para que se considere toda la condición general como cierta.\n",
    "\n",
    "Por otra parte, el Operador `not` posee la versatilidad de ser utilizado como complemento de muchos de los operadores anteriores, ya que sólo invierte la forma en que la cual una condición es considerada como verdadera. Por ejemplo, si `in` permite verificar que un elemento se encuentre dentro de una lista, entonces para determinar si éste *no* se encuentra en ella:"
   ]
  },
  {
   "cell_type": "code",
   "execution_count": 16,
   "metadata": {},
   "outputs": [
    {
     "name": "stdout",
     "output_type": "stream",
     "text": [
      "El número no se encuentra en la lista establecida\n"
     ]
    }
   ],
   "source": [
    "# Generando una condición a través de 'not'\n",
    "if 10 not in lista_1:\n",
    "    print('El número no se encuentra en la lista establecida')"
   ]
  },
  {
   "cell_type": "markdown",
   "metadata": {},
   "source": [
    "El Operador `not` siempre precede al operador o condición cuya lógica pretende invertir, y puede ser combinado con el resto de múltiples maneras:"
   ]
  },
  {
   "cell_type": "code",
   "execution_count": 17,
   "metadata": {},
   "outputs": [
    {
     "name": "stdout",
     "output_type": "stream",
     "text": [
      "El número se encuentra en la primera lista, pero no en la segunda\n"
     ]
    }
   ],
   "source": [
    "if (3 in lista_1) and not (3 in lista_2):\n",
    "    print('El número se encuentra en la primera lista, pero no en la segunda')"
   ]
  },
  {
   "cell_type": "markdown",
   "metadata": {},
   "source": [
    "#### Procesos Dictados por `for` (Bucles)\n",
    "Existen momentos en los que es necesario repetir múltiples veces una misma tarea, y repetir las mismas líneas de código múltiples veces puede generar códigos repetitivos y muy extensos. Para eso es que existe `for` pues, dado un número conocido de veces que debe repetir un proceso, ejecutará un mismo código, proceso al que se le conoce como *Bucle* (*Loop*). La estructura general de un Bucle de tipo `for` es:"
   ]
  },
  {
   "cell_type": "code",
   "execution_count": 18,
   "metadata": {},
   "outputs": [
    {
     "name": "stdout",
     "output_type": "stream",
     "text": [
      "Estoy trabajando con el número 1\n",
      "Estoy trabajando con el número 2\n",
      "Estoy trabajando con el número 3\n",
      "Estoy trabajando con el número 4\n",
      "Estoy trabajando con el número 5\n"
     ]
    }
   ],
   "source": [
    "for i in lista_1:\n",
    "    print('Estoy trabajando con el número' , i)"
   ]
  },
  {
   "cell_type": "markdown",
   "metadata": {},
   "source": [
    "El bucle se inicializa al momento de escribir `for variable in estructura_de_datos`, donde `estructura_de_datos` representa cualquiera de las estructuras estudiadas anteriormente (Listas, Tuplas, Diccionarios o Conjuntos), y `variable` es el nombre temporal que se le asignará a cada uno de los elementos de la estructura. Al igual que con `if`, es necesario el uso de los dos puntos `:` y la identación para determinar la parte del código que será repetida múltiples veces.\n",
    "\n",
    "En el ejemplo anterior, la Estructura de Datos es `lista_1`, y el nombre temporal de los elementos fue asignado como `i`; la parte del código que se reptie con cada uno de los elementos de la lista es el `print()`. Cabe notar que éste es un bucle que se repite tantos elementos tenga `lista_1`, cambiando el resultado en cada repetición según el elemento de la lista que se encuentre utilizado; para la primera repetición, utiliza el primer elemento de la lista (el Número Entero `1`), para la segunda el segundo elemento, y así sucesivamente hasta haberla utilizado completamente.\n",
    "\n",
    "El uso de `i` dentro del código es sólo una manera de indicarle a *Python* que utilice el elemento que corresponda a la repetición, y a través de la asignación del nombre permite que pueda ser utilizado y modificado como una variable cualquiera:"
   ]
  },
  {
   "cell_type": "code",
   "execution_count": 19,
   "metadata": {},
   "outputs": [
    {
     "name": "stdout",
     "output_type": "stream",
     "text": [
      "El cuadrado del número 1 es 1\n",
      "El cuadrado del número 2 es 4\n",
      "El cuadrado del número 3 es 9\n",
      "El cuadrado del número 4 es 16\n",
      "El cuadrado del número 5 es 25\n"
     ]
    }
   ],
   "source": [
    "for i in lista_1:\n",
    "    print('El cuadrado del número', i, 'es', i**2)"
   ]
  },
  {
   "cell_type": "markdown",
   "metadata": {},
   "source": [
    "Es importante destacar que la variable definida para el bucle (en los ejemplos anteriores, `i`) únicamente existe dentro del bucle, y desaparece automáticamente al momento de que éste finaliza; en otras palabras, *Python* sólo crea a `i` cuando se define el bucle y, si ésta intenta utilizarse en cualquier otro momento del código, se tendrá un error, pues la variable únicamente existe dentro del bucle en el que fue creado. Dentro de Programación, éste es un fenómeno que recibe el nombre de *Alcance* ([*Scope*](https://pythonspot.com/scope/)) y, al momento de crear bucles o funciones, es importante tomarlo en cuenta.\n",
    "\n",
    "Por último, como cualquier otra variable, puede asignarse casi cualquier nombre posible. Comúnmente, vale la pena utilizar un nombre que permita identificar con facilidad la función del elemento dentro del código:"
   ]
  },
  {
   "cell_type": "code",
   "execution_count": 20,
   "metadata": {},
   "outputs": [
    {
     "name": "stdout",
     "output_type": "stream",
     "text": [
      "El cuadrado del número 5 es 25\n",
      "El cuadrado del número 6 es 36\n",
      "El cuadrado del número 7 es 49\n",
      "El cuadrado del número 8 es 64\n",
      "El cuadrado del número 9 es 81\n"
     ]
    }
   ],
   "source": [
    "for elemento in lista_2:\n",
    "    print('El cuadrado del número', elemento, 'es', elemento**2)"
   ]
  },
  {
   "cell_type": "markdown",
   "metadata": {},
   "source": [
    "Al momento de realizar operaciones dentro de un bucle con los elementos de una lista, debe de asegurarse que absolutamente todos los elementos de ésta son capaces de realizar tal operación pues, de lo contrario, se tendrá un error en el código.\n",
    "\n",
    "##### Combinaciones entre `if` y `for`\n",
    "Es posible generar combinaciones entre `if` y `for` que ayuden a generar código más complejo del que se podría tener con ellos por sí sólos.\n",
    "\n",
    "Un ejemplo clásico es el determinar a través de *Python* si un número es par o non. Anteriormente, se estudió una Operación Matemática llamada *Módulo* (`%`), la cual da como resultado el residuo de una división. Si un número es par, entonces al momento de reailizar su módulo con dos (*e.g.* `4%2` o `10%2`), entonces el resultado arrojado será `0`, pues no existe un resudio de la división; si un número es impar, entonces su módulo si tendrá residuo (`3%2` o `7%2`). Como tal, puede llevarse la lógica anterior a *Python* y, a través de condiciones con `if` y un bucle tipo `for`, determinar si los números que componen una lista son pares o nones:"
   ]
  },
  {
   "cell_type": "code",
   "execution_count": 21,
   "metadata": {},
   "outputs": [
    {
     "name": "stdout",
     "output_type": "stream",
     "text": [
      "1 es un número impar\n",
      "2 es un número par\n",
      "3 es un número impar\n",
      "4 es un número par\n",
      "5 es un número impar\n"
     ]
    }
   ],
   "source": [
    "# Para cada uno de los elementos de 'lista_1'...\n",
    "for i in lista_1:\n",
    "    # Sí el módulo es igual a 0 (es decir, la división no tiene residuo)\n",
    "    if i%2 == 0:\n",
    "        print(i , 'es un número par')\n",
    "    # De lo contrario\n",
    "    else:\n",
    "        print(i , 'es un número impar')"
   ]
  },
  {
   "cell_type": "markdown",
   "metadata": {},
   "source": [
    "Cabe destacar cómo la identación es la que determina la parte del código que pertenece a cada elemento `if` o `for`; ambas líneas que utilizan la función `print()` se encuentran condicionadas por `if` o `else`, que a su vez pertenecen al bucle creado por `for` y, por ende, la comprobación de condiciones se realizará tantas veces como elementos existan en `lista_1`. Gracias a que todo el código pertenece al bucle, el nombre de la variable `i` puede ser utilizada en cualquier parte del código, tomando en cuenta que su valor cambiará según el número de veces que se ha repetido el código.\n",
    "\n",
    "##### Bucles Anidados\n",
    "También es posible crear nuevos bucles dentro de un bucle ya existente; esto permite que todos los elementos de una lista puedan ser relacionados de forma individual a los de otra, dejando así la posibilidad de realizar procesos más complejos. Para inicializar un bucle anidado, basta con añadir el `for` correspondiente dentro de un bucle ya comenzado:"
   ]
  },
  {
   "cell_type": "code",
   "execution_count": 22,
   "metadata": {},
   "outputs": [
    {
     "name": "stdout",
     "output_type": "stream",
     "text": [
      "Ahora se está trabajando con el número 1 de la Lista 1\n",
      "La multipliación de 1 por 5 es igual a 5\n",
      "La multipliación de 1 por 6 es igual a 6\n",
      "La multipliación de 1 por 7 es igual a 7\n",
      "La multipliación de 1 por 8 es igual a 8\n",
      "La multipliación de 1 por 9 es igual a 9\n",
      "Ahora se está trabajando con el número 2 de la Lista 1\n",
      "La multipliación de 2 por 5 es igual a 10\n",
      "La multipliación de 2 por 6 es igual a 12\n",
      "La multipliación de 2 por 7 es igual a 14\n",
      "La multipliación de 2 por 8 es igual a 16\n",
      "La multipliación de 2 por 9 es igual a 18\n",
      "Ahora se está trabajando con el número 3 de la Lista 1\n",
      "La multipliación de 3 por 5 es igual a 15\n",
      "La multipliación de 3 por 6 es igual a 18\n",
      "La multipliación de 3 por 7 es igual a 21\n",
      "La multipliación de 3 por 8 es igual a 24\n",
      "La multipliación de 3 por 9 es igual a 27\n",
      "Ahora se está trabajando con el número 4 de la Lista 1\n",
      "La multipliación de 4 por 5 es igual a 20\n",
      "La multipliación de 4 por 6 es igual a 24\n",
      "La multipliación de 4 por 7 es igual a 28\n",
      "La multipliación de 4 por 8 es igual a 32\n",
      "La multipliación de 4 por 9 es igual a 36\n",
      "Ahora se está trabajando con el número 5 de la Lista 1\n",
      "La multipliación de 5 por 5 es igual a 25\n",
      "La multipliación de 5 por 6 es igual a 30\n",
      "La multipliación de 5 por 7 es igual a 35\n",
      "La multipliación de 5 por 8 es igual a 40\n",
      "La multipliación de 5 por 9 es igual a 45\n"
     ]
    }
   ],
   "source": [
    "# Bucle Inicial\n",
    "for i in lista_1:\n",
    "    # Paso del bucle inicial que se ejecuta cada vez que se reinicia éste\n",
    "    print('Ahora se está trabajando con el número', i, 'de la Lista 1')\n",
    "    # Bucle Anidado\n",
    "    for k in lista_2:\n",
    "        print('La multipliación de' , i , 'por' , k , 'es igual a' , i*k)"
   ]
  },
  {
   "cell_type": "markdown",
   "metadata": {},
   "source": [
    "Lo primero a notar es que el segundo bucle, donde se está utilizando `lista_2`, es repetido múltiples veces; específicamente, tantos elementos existen dentro de `lista_1` dado que se encuentra anidado dentro del bucle inicial. También cabe destacar los valores que adquieren `i` y `k` dependiendo de la repetición de los bucles en la que se encuentre el proceso; no está de más mencionar que ambas variables fueron nombradas de formas diferentes para evitar que *Python* encontrase algún error.\n",
    "\n",
    "En resumen, un bucle de tipo `for` puede ser anidado dentro de otro cuando sea necesario, ejecutándose el anidado tantas veces como el inicial lo necesite; este tipo de bucles son principalmente utilizados al momento de trabajar con matrices o elementos similares.\n",
    "\n",
    "##### Bucles de Múltiples Elementos\n",
    "Existen situaciones en las que, dentro de un bucle, no sólo se necesitan los elementos de una lista en particular, sino también los de otra complementaria. Definir esto se realiza muy sencillamente al momento de inicializar un bucle de tipo `for`, pues únicamente se requiere envolver las listas que lo regirán a través de la función `zip()`. A continuación un ejemplo de ello:"
   ]
  },
  {
   "cell_type": "code",
   "execution_count": 23,
   "metadata": {},
   "outputs": [
    {
     "name": "stdout",
     "output_type": "stream",
     "text": [
      "La multiplicación de 1 por 5 es igual a 5\n",
      "La multiplicación de 2 por 6 es igual a 12\n",
      "La multiplicación de 3 por 7 es igual a 21\n",
      "La multiplicación de 4 por 8 es igual a 32\n",
      "La multiplicación de 5 por 9 es igual a 45\n"
     ]
    }
   ],
   "source": [
    "for i , k in zip(lista_1 , lista_2):\n",
    "    print('La multiplicación de' , i , 'por' , k , 'es igual a' , i*k)"
   ]
  },
  {
   "cell_type": "markdown",
   "metadata": {},
   "source": [
    "La diferencia principal entre estos tipos de bucles y los bucles anidados radica en que, a diferencia de los segundos, los de múltiples elementos únicamente utilizarán los elementos de cada una de las listas una vez, en función de la repetición en la que se encuentre el bucle. Para la primera repetición, el bucle utilizará el primer elemento de la primera y la segunda lista; para la segunda, el segundo elemento de cada una, y así sucesivamente. Lo anterior permite deducir que, forzosamente, cada una de las listas utilizadas debe de tener la misma extensión, para que siempre exista un correspondiente entre ambas; esto se diferencía al caso de las anidadas, donde las dos listas pueden ser de extensión diferente.\n",
    "\n",
    "Las variables que representan a los elementos de la lista son definidas en el lugar usual, siendo separadas únicamente a través de una coma, de la misma forma que las listas son separadas dentro de `zip()`. Cada elemento es utilizado sólo una vez en cada repetición y el bucle finalizará cuando ambas listas hayan sido completadas.\n",
    "\n",
    "___\n",
    "\n",
    "### Importación y Uso de Librerías\n",
    "Tal y como se ha mencionado anteriormente, existe un sinnúmero de librerías, creadas por múltiples autores alrededor del mundo, que complementan las capacidades básicas de *Python* y le permiten ejecutar un sinnúmero más de tareas. Hasta ahora, únicamente se ha trabajado con lo mínimo básico disponible por defecto en *Python*; sin embargo, a través de sus librerías, el lenguaje se puede volver mucho más poderoso.\n",
    "\n",
    "Por ahora, se trabajará con una de las librerías más básicas y generalmente utilizadas en *Python*, la cual recibe el nombre de [*NumPy*](https://numpy.org) (*Numerical Python*); ésta es una librería que, entre otras cosas, contiene funciones que permiten ocupar múltiples métodos y técnicas del Álgebra Lineal, como Operaciones con Matrices, Transformada de Fourier, entre otros.\n",
    "\n",
    "Antes de utilizar la librería, primero es necesario asegurarse de que ésta se encuentre instalada. Para ello, únicamente se debe de ejecutar a través de *Conda*, el siguiente comando:\n",
    "\n",
    "    > conda install numpy\n",
    "    \n",
    "Una vez instalado, la siguiente línea debe de ser ejecutada en *Python*:"
   ]
  },
  {
   "cell_type": "code",
   "execution_count": 24,
   "metadata": {},
   "outputs": [],
   "source": [
    "import numpy"
   ]
  },
  {
   "cell_type": "markdown",
   "metadata": {},
   "source": [
    "La palabra `import` es la utilizada por *Python* para indicarle que, de ahora en adelante, se utilizarán funciones derivadas de la librería que se haya escrito, en este caso `numpy`. Como tal, ahora pueden ejecutarse comandos como:"
   ]
  },
  {
   "cell_type": "code",
   "execution_count": 25,
   "metadata": {},
   "outputs": [
    {
     "data": {
      "text/plain": [
       "array([0, 1, 2, 3])"
      ]
     },
     "execution_count": 25,
     "metadata": {},
     "output_type": "execute_result"
    }
   ],
   "source": [
    "numpy.arange(4)"
   ]
  },
  {
   "cell_type": "markdown",
   "metadata": {},
   "source": [
    "La regla general para utilizar la función de una librería en específico es, primero, escribir el nombre de ésta (`numpy`), inmediatamente seguida por un punto `.` y el nombre de la función deseada. En ese caso, `numpy` posee una función llamada `.arange` que, automáticamente, genera una lista de tantos elementos se indiquen entre los paréntesis, iniciando por el número cero. Ésto pudo haberse realizado por nosotros a través de lo aprendido anteriormente; sin embargo, el uso de la librería facilita su generación, pues alguien más ya realizó el proceso que lo genera por nosotros.\n",
    "\n",
    "En general, y por convención, las librerías son renombradas con sobrenombres más sencillos de modo que su uso dentro del código sea más accesible. Internacionalmente, `numpy` es sintetizado bajo el sobrenombre `np`, el cual puede ser asignado directamente al momento de importar la librería:"
   ]
  },
  {
   "cell_type": "code",
   "execution_count": 26,
   "metadata": {},
   "outputs": [],
   "source": [
    "import numpy as np"
   ]
  },
  {
   "cell_type": "markdown",
   "metadata": {},
   "source": [
    "Y, como tal, al momento de llamar a las funciones, este sobrenombre es el que debe de ser utilizado:"
   ]
  },
  {
   "cell_type": "code",
   "execution_count": 27,
   "metadata": {},
   "outputs": [
    {
     "data": {
      "text/plain": [
       "array([0, 1, 2, 3, 4, 5, 6, 7, 8, 9])"
      ]
     },
     "execution_count": 27,
     "metadata": {},
     "output_type": "execute_result"
    }
   ],
   "source": [
    "np.arange(10)"
   ]
  },
  {
   "cell_type": "markdown",
   "metadata": {},
   "source": [
    "___\n",
    "### Funciones en *Python*\n",
    "La última parte de esta Introducción a *Python* se relaciona con la definición de funciones o, como son llamadas propiamente dentro del lenguaje, *Métodos*. Hasta el momento, únicamente se ha generado código que puede ser ejecutado una sola vez pero, si quisiera repetirse nuevamente en alguna otra sección, tendría que ser copiado y pegado completado totalmente; sin embargo, como se observará más adelante en el curso, una de las razones principales por las que es útil emplear *Python* para el Análisis de Datos en lugar de interfaces gráficas, como SPSS o QGIS, es que cualquier código puede ser reutilizado para realizar un análisis en particular tantas veces como se necesite.\n",
    "\n",
    "Las Funciones permiten encapsular pequeños extractos de código que cumplen alguna tarea en particular, y les asigna un nombre para que puedan ser llamados fácilmente en cualquier momento. Hasta el momento, ya se han utilizado algunas funciones, como `print()` o `.arange()`, las cuales son fáciles de identificar gracias a que su nombre siempre se encuentra seguido de dos paréntesis; ahora, podremos crear nuestros propios métodos que realicen tareas que nosotros deseemos, como la siguiente función que reproduce uno de los primeros bucles tipo `for` que se definieron anteriormente:"
   ]
  },
  {
   "cell_type": "code",
   "execution_count": 28,
   "metadata": {},
   "outputs": [],
   "source": [
    "def loop_simple():\n",
    "    for i in lista_1:\n",
    "        print('Estoy trabajando con el número' , i)\n",
    "    return None"
   ]
  },
  {
   "cell_type": "markdown",
   "metadata": {},
   "source": [
    "De la celda anterior es posible observar múltiples detalles importantes:\n",
    "\n",
    "* La definición de una nueva función siempre comienza con la palabra `def`, seguida del nombre que se le desee asignar a la función. En este caso, el el método recibe el nombre de `loop_simple`, pero en realidad puede utilizarse cualquier nombre deseado.\n",
    "* Existen otros tres elementos esenciales para crear una función; primero, los Paréntesis `()` inmediatamente después del nombre asignado a la función; segundo, los dos puntos `:` que indican dónde se empieza a escribir la función; tercero, la identación que, al igual que con `if` y `for`, define qué líneas de código pertenecen a la función.\n",
    "* Dentro de la definición de la función se encuentra el mismo código utilizado anteriormente, sólo que identado correctamente para que forme parte del método.\n",
    "* Toda definición de función finaliza al momento de escribir la palabra `return`, seguida por la variable o el resultado que se espera la función obtenga. En este caso, debido a que no se espera que el método obtenga algún resultado en particular, se adiciona la palabra `None` que, como se describió anteriormente, representa la ausencia de algo en *Python*.\n",
    "\n",
    "Una vez realizado lo anterior, la función puede ser utilizada escribiendo únicamente su nombre seguido de los paréntesis:"
   ]
  },
  {
   "cell_type": "code",
   "execution_count": 29,
   "metadata": {},
   "outputs": [
    {
     "name": "stdout",
     "output_type": "stream",
     "text": [
      "Estoy trabajando con el número 1\n",
      "Estoy trabajando con el número 2\n",
      "Estoy trabajando con el número 3\n",
      "Estoy trabajando con el número 4\n",
      "Estoy trabajando con el número 5\n"
     ]
    }
   ],
   "source": [
    "loop_simple()"
   ]
  },
  {
   "cell_type": "markdown",
   "metadata": {},
   "source": [
    "Se tiene que se obtuvo exactamente el mismo resultado que el de la Celda de Código No. 76, siendo ahora la diferencia que únicamente fue necesario utilizar el nombre de la función que, anteriormente, se definió que contiene el código.\n",
    "\n",
    "Anteriormente, se observó que, al momento de utilizar una función, normalmente se escribe algún tipo de información dentro de los paréntesis; por ejemplo, en el caso de `.arange()`, dentro de los paréntesis se escribía la longitud de la lista deseada. Esto mismo puede ser aplicado para nuestra función particular, lo único que se necesita es que, al momento de definirla, también se establezcan cuáles serán los *argumentos* con los que trabajará.\n",
    "\n",
    "Primero, vale la pena comprobar que las listas generadas por `.arange()` también pueden ser utilizadas por un bucle de tipo `for`:"
   ]
  },
  {
   "cell_type": "code",
   "execution_count": 30,
   "metadata": {},
   "outputs": [
    {
     "name": "stdout",
     "output_type": "stream",
     "text": [
      "Estoy trabajando con el número 0\n",
      "Estoy trabajando con el número 1\n",
      "Estoy trabajando con el número 2\n",
      "Estoy trabajando con el número 3\n",
      "Estoy trabajando con el número 4\n"
     ]
    }
   ],
   "source": [
    "for i in np.arange(5):\n",
    "    print('Estoy trabajando con el número', i)"
   ]
  },
  {
   "cell_type": "markdown",
   "metadata": {},
   "source": [
    "A través de una función, es posible lograr que la longitud de la lista generada por `.arange()` sea asignada por el usuario, a través de un *argumento*:"
   ]
  },
  {
   "cell_type": "code",
   "execution_count": 31,
   "metadata": {},
   "outputs": [],
   "source": [
    "def loop_con_argumento(x):\n",
    "    for i in np.arange(x):\n",
    "        print('Estoy trabajando con el número' , i)\n",
    "    return None"
   ]
  },
  {
   "cell_type": "markdown",
   "metadata": {},
   "source": [
    "El *argumento*, en primer lugar, es establecido dentro de los primeros paréntesis de la definición de la función, sección en la cual se le asigna el nombre que recibirá para el resto del código; al igual que con las variables y en el bucle tipo `for`, el argumento puede recibir el nombre deseado por el usuario, siendo éste el que se utilizará en el resto del código.\n",
    "\n",
    "Posteriormente, al momento de utilizar `.arange()`, se ha colocado en su interior el argumento de la función, de modo que, dependiendo del valor que el usuario le asigne al argumento será la lista generada por este método. Como tal, para ejecutar la nueva función generada, se tiene que:"
   ]
  },
  {
   "cell_type": "code",
   "execution_count": 32,
   "metadata": {},
   "outputs": [
    {
     "name": "stdout",
     "output_type": "stream",
     "text": [
      "Estoy trabajando con el número 0\n",
      "Estoy trabajando con el número 1\n",
      "Estoy trabajando con el número 2\n",
      "Estoy trabajando con el número 3\n",
      "Estoy trabajando con el número 4\n"
     ]
    }
   ],
   "source": [
    "loop_con_argumento(5)"
   ]
  },
  {
   "cell_type": "markdown",
   "metadata": {},
   "source": [
    "Al momento de llamar la función `loop_con_argumento` y colocar entre los paréntesis el número cinco, *Python* automáticamente interpreta que, para el código que se encuentra dentro de la función, debe de entender que `x = 5` y, por ende, será como lo trabajará al ejecutar la función. Dependiendo del valor del argumento será el resultado obtenido:"
   ]
  },
  {
   "cell_type": "code",
   "execution_count": 33,
   "metadata": {},
   "outputs": [
    {
     "name": "stdout",
     "output_type": "stream",
     "text": [
      "Estoy trabajando con el número 0\n",
      "Estoy trabajando con el número 1\n",
      "Estoy trabajando con el número 2\n",
      "Estoy trabajando con el número 3\n",
      "Estoy trabajando con el número 4\n",
      "Estoy trabajando con el número 5\n",
      "Estoy trabajando con el número 6\n"
     ]
    }
   ],
   "source": [
    "loop_con_argumento(7)"
   ]
  },
  {
   "cell_type": "markdown",
   "metadata": {},
   "source": [
    "Es importante destacar que, debido a que la función requiere de un argumento, ésta no puede ser ejecutada si el argumento no se especifica; en otras palabras, si no se coloca un valor dentro de los paréntesis, se tendrá un error.\n",
    "\n",
    "Otro detalle importante de las funciones es el resultado que éste arrojará. Aunque nuestra función muestra mensajes derivados de la función `print()` que tiene en su interior, en si no hay ningún tipo de resultado almacenado derivado de la misma, debido a que dentro de la función la palabra `return` se encuentra seguida por `None`.\n",
    "\n",
    "Comúnmente almacenar el resultado de una función resulta de gran importancia para secciones posteriores; por ejemplo, digamos que se tiene una función que ejecuta la operación $e^x / y$, donde $x$ y $y$ son variables definidas por el usuario. Esta operación colocada dentro de una función, y la forma en la que se almacena el resultado, se muestran a continuación:"
   ]
  },
  {
   "cell_type": "code",
   "execution_count": 34,
   "metadata": {},
   "outputs": [],
   "source": [
    "def operacion(x , y):\n",
    "    resultado = np.exp(x) / y\n",
    "    return resultado"
   ]
  },
  {
   "cell_type": "markdown",
   "metadata": {},
   "source": [
    "En el código anterior, `.exp()` es una función de la librería `numpy` que define la operación $e^x$; asimismo, el resultado de la operación está siendo almacenado en una variable llamada `resultado`, cuyo nombre es colocado después de la palabra `return` para indicar que eso es lo que debe de devolver la función como resultado. Debe resaltarse que la variable `resultado` nuevamente sigue las reglas del *Alcance* ([*Scope*](https://pythonspot.com/scope/)) mencionadas anteriormente, en términos de que esta variable únicamente existe al momento de ejecutarse la función y, por ende, si intenta llamarse en cualquier otra parte del código, *Python* arrojará un error pues, fuera de la función, no existe.\n",
    "\n",
    "Como tal, si se llama la función especificando los dos argumentos deseados:"
   ]
  },
  {
   "cell_type": "code",
   "execution_count": 35,
   "metadata": {},
   "outputs": [
    {
     "data": {
      "text/plain": [
       "21.201879871796656"
      ]
     },
     "execution_count": 35,
     "metadata": {},
     "output_type": "execute_result"
    }
   ],
   "source": [
    "operacion(5 , 7)"
   ]
  },
  {
   "cell_type": "markdown",
   "metadata": {},
   "source": [
    "Dado que ahora la función posee algo especificado después de `return`, este resultado obtenido puede ser asignado a una variable:"
   ]
  },
  {
   "cell_type": "code",
   "execution_count": 36,
   "metadata": {},
   "outputs": [],
   "source": [
    "a = operacion(5 , 7)"
   ]
  },
  {
   "cell_type": "markdown",
   "metadata": {},
   "source": [
    "Misma que puede ser utilizada posteriormente para futuros análisis:"
   ]
  },
  {
   "cell_type": "code",
   "execution_count": 37,
   "metadata": {},
   "outputs": [
    {
     "data": {
      "text/plain": [
       "63.60563961538997"
      ]
     },
     "execution_count": 37,
     "metadata": {},
     "output_type": "execute_result"
    }
   ],
   "source": [
    "a * 3"
   ]
  },
  {
   "cell_type": "markdown",
   "metadata": {},
   "source": [
    "La ventaja de almacenar código en funciones, a diferencia de escribirlo por si mismo de forma secuencial, es que fuerza al autor a pensar de forma modular, ayudando a identificar exactamente que es lo que se necesita hacer para obtener el resultado deseado, el orden en que debe de ser realizado y lo que se requiere para ello. Encapsular estos extractos en métodos nos permite escribir las cosas sólo una vez y utilizarlas de forma flexible en cualquier otra parte, ahorrando tiempo en el camino.\n",
    "___\n",
    "### Ayuda de *Python*\n",
    "Una de las utilidades más grandes de *Python* es su capacidad de brindar información y ayuda sobre sus diferentes funciones. Esto significa que es posible revisar cuál es la finalidad de una función, cómo acceder a ella y lo que se necesita para que funcione correctamente, todo directamente desde el código.\n",
    "\n",
    "Existen múltiples formas de acceder a estas funciones de ayuda. Por ejemplo, para la función de `numpy` utilizada hasta ahora, `.arange()`, puede revisarse su información añadiendo un signo de interrogación `?` después del nombre de la función"
   ]
  },
  {
   "cell_type": "code",
   "execution_count": 38,
   "metadata": {},
   "outputs": [],
   "source": [
    "np.arange?"
   ]
  },
  {
   "cell_type": "markdown",
   "metadata": {},
   "source": [
    "Al ejecutar esta línea, el *Notebook* deslpiega una ventana interactiva en el navegador, la cual contiene la información deseada. Si, por alguna razón, prefieres que la ayuda aparezca directamente como resultado de una celda, entonces puedes utilizar la función `help()`:"
   ]
  },
  {
   "cell_type": "code",
   "execution_count": 39,
   "metadata": {},
   "outputs": [
    {
     "name": "stdout",
     "output_type": "stream",
     "text": [
      "Help on built-in function arange in module numpy:\n",
      "\n",
      "arange(...)\n",
      "    arange([start,] stop[, step,], dtype=None)\n",
      "    \n",
      "    Return evenly spaced values within a given interval.\n",
      "    \n",
      "    Values are generated within the half-open interval ``[start, stop)``\n",
      "    (in other words, the interval including `start` but excluding `stop`).\n",
      "    For integer arguments the function is equivalent to the Python built-in\n",
      "    `range` function, but returns an ndarray rather than a list.\n",
      "    \n",
      "    When using a non-integer step, such as 0.1, the results will often not\n",
      "    be consistent.  It is better to use `numpy.linspace` for these cases.\n",
      "    \n",
      "    Parameters\n",
      "    ----------\n",
      "    start : number, optional\n",
      "        Start of interval.  The interval includes this value.  The default\n",
      "        start value is 0.\n",
      "    stop : number\n",
      "        End of interval.  The interval does not include this value, except\n",
      "        in some cases where `step` is not an integer and floating point\n",
      "        round-off affects the length of `out`.\n",
      "    step : number, optional\n",
      "        Spacing between values.  For any output `out`, this is the distance\n",
      "        between two adjacent values, ``out[i+1] - out[i]``.  The default\n",
      "        step size is 1.  If `step` is specified as a position argument,\n",
      "        `start` must also be given.\n",
      "    dtype : dtype\n",
      "        The type of the output array.  If `dtype` is not given, infer the data\n",
      "        type from the other input arguments.\n",
      "    \n",
      "    Returns\n",
      "    -------\n",
      "    arange : ndarray\n",
      "        Array of evenly spaced values.\n",
      "    \n",
      "        For floating point arguments, the length of the result is\n",
      "        ``ceil((stop - start)/step)``.  Because of floating point overflow,\n",
      "        this rule may result in the last element of `out` being greater\n",
      "        than `stop`.\n",
      "    \n",
      "    See Also\n",
      "    --------\n",
      "    linspace : Evenly spaced numbers with careful handling of endpoints.\n",
      "    ogrid: Arrays of evenly spaced numbers in N-dimensions.\n",
      "    mgrid: Grid-shaped arrays of evenly spaced numbers in N-dimensions.\n",
      "    \n",
      "    Examples\n",
      "    --------\n",
      "    >>> np.arange(3)\n",
      "    array([0, 1, 2])\n",
      "    >>> np.arange(3.0)\n",
      "    array([ 0.,  1.,  2.])\n",
      "    >>> np.arange(3,7)\n",
      "    array([3, 4, 5, 6])\n",
      "    >>> np.arange(3,7,2)\n",
      "    array([3, 5])\n",
      "\n"
     ]
    }
   ],
   "source": [
    "help(np.arange)"
   ]
  },
  {
   "cell_type": "markdown",
   "metadata": {},
   "source": [
    "##### Documentación de los Métodos\n",
    "Al momento de crear una función personalizada, resulta útil documentar información sobre ella, tal y como la mostrada anteriormente; esto, pues no sólo permite a cualquier usuario entender cuál es su propósito general, sino también sirve como referencia futura para el autor, en caso de que olvide su objetivo inicial. Aunque existen múltilpes formas de hacer esto, la convención típica es la siguiente:"
   ]
  },
  {
   "cell_type": "code",
   "execution_count": 40,
   "metadata": {},
   "outputs": [],
   "source": [
    "def operacion(x , y):\n",
    "    \"\"\"\n",
    "    Automatically performs the operation (e^x)/y\n",
    "    ...\n",
    "    \n",
    "    Arguments\n",
    "    ---------\n",
    "    x , y   : int or float\n",
    "              Value of the variables to be introduced in the operation\n",
    "    \n",
    "    Returns\n",
    "    -------\n",
    "    resultado : float\n",
    "                Final result\n",
    "    \"\"\"\n",
    "    resultado = np.exp(x) / y\n",
    "    return resultado"
   ]
  },
  {
   "cell_type": "markdown",
   "metadata": {},
   "source": [
    "La documentación de una función, al igual que cualquier otra Cadena de Texto (*String*), aparece de color rojo dentro del *Notebook*. Este tipo de documentación, llamada internacionalmente bajo el nombre *Docstring* sigue la siguiente estructura:\n",
    "\n",
    "* Escrita en inglés para que pueda ser transmitida internacionalmente.\n",
    "* Se encuentra encapsulada entre tres comillas dobles (\"\"\").\n",
    "* Comienza con una pequeña descripción de lo que el método hace. Mientras más corta y concisa, mejor.\n",
    "* Posee una sección llamada *Arguments*, que lista todos los argumentos de la función, el tipo de dato y su función.\n",
    "* Sigue otra sección llamada *Returns*, que especifica el resultado esperado de la función, es decir, lo que se encuentra después de la palabra `return`, así como el tipo de dato del mismo.\n",
    "\n",
    "La documentación no sólo ayuda a recordar con facilidad lo que hace una función, sino también fuerza al autor a escribir código más limpio y organizado. Adicionalmente, el utilizar *Docstring* ayuda a que la documentación pueda ser accedida automáticamente a través de la función `help()` o el signo de interrogación `?`, tal y como se observaron anteriormente."
   ]
  },
  {
   "cell_type": "code",
   "execution_count": 41,
   "metadata": {},
   "outputs": [],
   "source": [
    "operacion?"
   ]
  },
  {
   "cell_type": "code",
   "execution_count": 42,
   "metadata": {},
   "outputs": [
    {
     "name": "stdout",
     "output_type": "stream",
     "text": [
      "Help on function operacion in module __main__:\n",
      "\n",
      "operacion(x, y)\n",
      "    Automatically performs the operation (e^x)/y\n",
      "    ...\n",
      "    \n",
      "    Arguments\n",
      "    ---------\n",
      "    x , y   : int or float\n",
      "              Value of the variables to be introduced in the operation\n",
      "    \n",
      "    Returns\n",
      "    -------\n",
      "    resultado : float\n",
      "                Final result\n",
      "\n"
     ]
    }
   ],
   "source": [
    "help(operacion)"
   ]
  }
 ],
 "metadata": {
  "kernelspec": {
   "display_name": "Python 3",
   "language": "python",
   "name": "python3"
  },
  "language_info": {
   "codemirror_mode": {
    "name": "ipython",
    "version": 3
   },
   "file_extension": ".py",
   "mimetype": "text/x-python",
   "name": "python",
   "nbconvert_exporter": "python",
   "pygments_lexer": "ipython3",
   "version": "3.7.4"
  }
 },
 "nbformat": 4,
 "nbformat_minor": 2
}
