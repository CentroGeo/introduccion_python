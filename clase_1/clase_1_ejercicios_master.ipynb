{
 "cells": [
  {
   "cell_type": "markdown",
   "metadata": {},
   "source": [
    "# Análisis de Datos Geoespaciales con Programación\n",
    "## Unidad II - Introducción a la Programación y Lenguaje Python\n",
    "### Clase No. 1 - Ejercicios\n",
    "\n",
    "Los siguientes ejercicios sirven como complemento a lo estudiado en la clase. Aunque no es obligatorio que los resuelvas, ya que su entrega no tendrá influencia directa sobre la calificación final del curso, sirven como una gran forma de practicar lo aprendido en clase y, por ende, mejorar tus habilidades con *Python*.\n",
    "\n",
    "Como tal, está bien equivocarse en el código. De cada entrega recibirás retroalimentación directa, que te permitirá mejorar tu código y acercarte al resultado buscado. Asegúrate de que cada entrega contenga tanto el código que escrbiste como el resultado obtenido.\n",
    "\n",
    "Toma los siguientes ejercicios como práctica personal; trabaja para mejorar tus habilidades y comprensión de *Python*.\n",
    "___\n",
    "\n",
    "### Ejercicio 1\n",
    "\n",
    "A continuación, tienes una lista de Números Enteros:"
   ]
  },
  {
   "cell_type": "code",
   "execution_count": 1,
   "metadata": {},
   "outputs": [],
   "source": [
    "lista_1 = [1, 1, 2, 3, 5, 8, 13, 21, 34, 55, 89]"
   ]
  },
  {
   "cell_type": "markdown",
   "metadata": {},
   "source": [
    "Genera un código que analice la lista e imprima únicamente aquellos elementos que tienen un valor menor o igual a diez.\n",
    "\n",
    "*Reto Adicional* - Guarda aquellos elementos que cumplan con la condición en una lista nueva, e imprime la lista resultante."
   ]
  },
  {
   "cell_type": "code",
   "execution_count": 2,
   "metadata": {},
   "outputs": [
    {
     "name": "stdout",
     "output_type": "stream",
     "text": [
      "[1, 1, 2, 3, 5, 8]\n"
     ]
    }
   ],
   "source": [
    "resultado = []\n",
    "\n",
    "for i in lista_1:\n",
    "    if i <= 10:\n",
    "        resultado.append(i)\n",
    "        \n",
    "print(resultado)"
   ]
  },
  {
   "cell_type": "markdown",
   "metadata": {},
   "source": [
    "___\n",
    "### Ejercicio 2\n",
    "A continuación, tienes dos listas de Números Enteros:"
   ]
  },
  {
   "cell_type": "code",
   "execution_count": 3,
   "metadata": {},
   "outputs": [],
   "source": [
    "lista_1 = [1, 1, 2, 3, 5, 8, 13, 21, 34, 55, 89]\n",
    "lista_2 = [1, 2, 3, 4, 5, 6, 7, 8, 9, 10, 11, 12, 13]"
   ]
  },
  {
   "cell_type": "markdown",
   "metadata": {},
   "source": [
    "Escribe código que dé como resultado final una lista que contenga todos aquellos elementos que se repitan en las dos listas anteriores, cuidando que la lista final no contenga elementos duplicados.\n",
    "\n",
    "*Reto Adicional* - Escribe el código dentro de una función que reciba como argumentos las dos listas, y pruébala utilizando listas generadas por ti."
   ]
  },
  {
   "cell_type": "code",
   "execution_count": 4,
   "metadata": {},
   "outputs": [
    {
     "name": "stdout",
     "output_type": "stream",
     "text": [
      "[1, 2, 3, 5, 8, 13]\n"
     ]
    }
   ],
   "source": [
    "#lista_1 = [1, 2, 3, 4, 5, 6, 7, 8, 9, 10]\n",
    "#lista_2 = [5, 6, 7, 8, 9, 10, 11, 12, 13, 14, 15]\n",
    "\n",
    "def comparador(a , b):\n",
    "    resultado = []\n",
    "    \n",
    "    for i in a:\n",
    "        for k in b:\n",
    "            if i == k:\n",
    "                if i not in set(resultado):\n",
    "                    resultado.append(i)\n",
    "    \n",
    "    return resultado\n",
    "\n",
    "print(comparador(lista_1 , lista_2))"
   ]
  },
  {
   "cell_type": "markdown",
   "metadata": {},
   "source": [
    "___\n",
    "### Ejercicio 3\n",
    "\n",
    "Toma una palabra cualquiera; por ejemplo:"
   ]
  },
  {
   "cell_type": "code",
   "execution_count": 5,
   "metadata": {},
   "outputs": [],
   "source": [
    "string_1 = 'Tlacuache'"
   ]
  },
  {
   "cell_type": "markdown",
   "metadata": {},
   "source": [
    "Escribe código que tome la Cadena de Texto e identifique cuáles son todas las vocales que posee la palabra, teniendo como resultado una lista que contenga éstas y no posea duplicados.\n",
    "\n",
    "*Reto Adicional* - Escribe lo anterior dentro de una función, y además asegúrate de que sea capaz de identificar las vocales sin importar si éstas se encuentran en mayúsculas, minúsculas o como acentos.\n",
    "\n",
    "*Consejo* - Recuerda que las Cadenas de Texto poseen la característica única de poder actuar como otras Estructuras de Datos, como las listas."
   ]
  },
  {
   "cell_type": "code",
   "execution_count": 6,
   "metadata": {},
   "outputs": [
    {
     "name": "stdout",
     "output_type": "stream",
     "text": [
      "['a', 'u', 'e']\n"
     ]
    }
   ],
   "source": [
    "def que_vocales(palabra):\n",
    "    resultado = []\n",
    "    tmp = ''\n",
    "    \n",
    "    for letra in palabra.upper():\n",
    "        if letra in ['A', 'Á']:\n",
    "            tmp = 'a'\n",
    "        elif letra in ['E', 'É']:\n",
    "            tmp = 'e'\n",
    "        elif letra in ['I', 'Í']:\n",
    "            tmp = 'i'\n",
    "        elif letra in ['O', 'Ó']:\n",
    "            tmp = 'o'\n",
    "        elif letra in ['U', 'Ú']:\n",
    "            tmp = 'u'\n",
    "            \n",
    "        if (tmp not in set(resultado)) and (tmp != ''):\n",
    "            resultado.append(tmp)\n",
    "    \n",
    "    return resultado\n",
    "\n",
    "print(que_vocales(string_1))"
   ]
  },
  {
   "cell_type": "markdown",
   "metadata": {},
   "source": [
    "___\n",
    "### Ejercicio 4\n",
    "Genera una función que sea capaz de conseguir lo siguiente:\n",
    "\n",
    "* Tenga un nombre pertinente (es decir, se relacione con la función que cumple).\n",
    "* Tome como argumento un Número Entero que represente el tamaño de la Estructura de Datos que se creará.\n",
    "* Cree primero un diccionario vacío.\n",
    "* Genere un bucle sobre una secuencia de números y almacene en el diccionario cada número como una *llave* y como su valor las palabras 'Par' o 'Non' dependiendo de su naturaleza.\n",
    "* Arroje el diccionario como resultado final.\n",
    "\n",
    "*Reto Adicional* - Genera la documentación en *Docstring* para dicha función.\n",
    "*Consejo* - Recuerda que ya existe una función de cierta librería que te permite generar listas de secuencias de números."
   ]
  },
  {
   "cell_type": "code",
   "execution_count": 7,
   "metadata": {},
   "outputs": [
    {
     "name": "stdout",
     "output_type": "stream",
     "text": [
      "{0: 'Par', 1: 'Non', 2: 'Par', 3: 'Non', 4: 'Par', 5: 'Non', 6: 'Par', 7: 'Non', 8: 'Par', 9: 'Non'}\n"
     ]
    }
   ],
   "source": [
    "import numpy as np\n",
    "\n",
    "def dicc_gen(x):\n",
    "    resultado = {}\n",
    "    \n",
    "    for i in np.arange(x):\n",
    "        if i%2 == 0:\n",
    "            resultado[i] = 'Par'\n",
    "        else:\n",
    "            resultado[i] = 'Non'\n",
    "    \n",
    "    return resultado\n",
    "\n",
    "print(dicc_gen(10))"
   ]
  },
  {
   "cell_type": "markdown",
   "metadata": {},
   "source": [
    "___\n",
    "### Ejercicio 5\n",
    "La lista que viste en los Ejercicio 1 y 2 recibe el nombre de [*Sucesión de Fibonacci*](https://en.wikipedia.org/wiki/Fibonacci_number); se trata de una serie de números formada por la suma de los dos elementos que le anteceden; por ejemplo, el número en la cuarta posición (3) es el resultado de la suma del segundo (1) y tercer elemento (2).\n",
    "\n",
    "Genera una función que arroje como resultado esta Sucesión de Fibonacci, preferentemente en forma de lista, y reciba como argumento el número de elementos de la sucesión que se desea se impriman.\n",
    "\n",
    "*Consejo* - Los primeros elementos de la sucesión siempre serán 1 y 1; este hecho puede auxiliar a la tarea."
   ]
  },
  {
   "cell_type": "code",
   "execution_count": 8,
   "metadata": {},
   "outputs": [
    {
     "name": "stdout",
     "output_type": "stream",
     "text": [
      "[1, 1, 2, 3, 5, 8, 13, 21, 34, 55]\n"
     ]
    }
   ],
   "source": [
    "def fibonnaci(x):\n",
    "    serie = [1 , 1]\n",
    "    for i in range(x - 2):\n",
    "        serie.append(serie[i] + serie[i + 1])\n",
    "        \n",
    "    return serie\n",
    "\n",
    "print(fibonnaci(10))"
   ]
  }
 ],
 "metadata": {
  "kernelspec": {
   "display_name": "Python 3",
   "language": "python",
   "name": "python3"
  },
  "language_info": {
   "codemirror_mode": {
    "name": "ipython",
    "version": 3
   },
   "file_extension": ".py",
   "mimetype": "text/x-python",
   "name": "python",
   "nbconvert_exporter": "python",
   "pygments_lexer": "ipython3",
   "version": "3.7.4"
  }
 },
 "nbformat": 4,
 "nbformat_minor": 2
}
