{
 "cells": [
  {
   "cell_type": "markdown",
   "metadata": {},
   "source": [
    "# Análisis de Datos Geoespaciales con Programación\n",
    "## Unidad II - Introducción a la Programación y Lenguaje Python\n",
    "### Clase No. 1 - Parte 1\n",
    "\n",
    "### Entendiendo `Jupyter Notebook`\n",
    "La principal herramienta que se utilizará a lo largo del curso será el [*Jupyter Notebook*](https://jupyter.org/), el cual es una forma eficiente de almacenar en un mismo archivo texto, líneas de código y resultados del mismo, el cual puede ser compartido, editado y modificado sencillamente. Podrían entenderse como el simil a un archivo de *Word*, pero enfocados a la programación.\n",
    "\n",
    "#### Creando un `Jupyter Notebook`\n",
    "Tal y como se estudió anteriormente, primero es necesario preparar a la computadora de trabajo para que tenga la capacidad de ejecutar código Python; así mismo, es conveniente tener a la mano el Sitema de Gestión de Paquetes *Conda*, pues a través de éste no sólo se instala la librería `jupyter`, necesaria para generar un *Notebook*, si no también puede crearse sencillamente un *Environment* que aisle el trabajo realizado, evitando posibles conflictos con otros proyectos. Lo anterior se logra sencillamente ejecutando los siguientes comandos a través de la Línea de Comandoas de *Conda*:\n",
    "\n",
    "    > conda create -n 'nombre_environment'\n",
    "    > conda activate 'nombre_environment'\n",
    "\n",
    "Una vez activado este *Environment*, es posible abrir la aplicación de *Jupyter Notebook* simplemente escribiendo:\n",
    "\n",
    "    > jupyter-notebook\n",
    "\n",
    "Lo cual abre en el navegador predeterminado de la computadora una ventana similar a la siguiente:\n",
    "\n",
    "![imagen](http://darribas.org/gds16/content/labs/figs/lab01_jupyter_home.png)\n",
    "\n",
    "En ésta, simplemente basta con acceder a la carpeta en la cual se desee crear el *Notebook* y seleccionar en el botón del lado superior derecho las opciones *New -> Python 3*, lo cual automáticamente un archivo con extensión *.ipyb*, correspondiente al *Jupyter Notebook*. Aquí también es posible abrir otros archivos con extensión *.ipyb*, lo cual permite trabajar con trabajo ya realizado anteriormente, aún si han sido descargados de otras fuentes.\n",
    "\n",
    "En el caso de esta guía, si no puedes interactuar con el contenido del archivo probablemente se debe a que te encuentras observando el archivo llamado *clase_1.html*, el cual únicamente permite la visualización a través de web; la versión interactiva se almacena en el archivo *clase_1.ipyb*, lo cual te permitirá no sólo ejecutar el código disponible, si no también modificarlo a tu conveniencia.\n",
    "\n",
    "#### Celdas\n",
    "El elemento principal de un *Jupyter Notebook* son las *Celdas* (*Cells*); éstas son espacios que pueden ser movidos y modificados según lo desee el usuario, y pueden contener **Texto** (como la celda en la cual está escrita este párrafo), o **Código**, como la que se presenta a continuación:"
   ]
  },
  {
   "cell_type": "code",
   "execution_count": 1,
   "metadata": {},
   "outputs": [],
   "source": [
    "# Ésta es una Celda de Código"
   ]
  },
  {
   "cell_type": "markdown",
   "metadata": {},
   "source": [
    "Es posible crear una nueva celda a través del menú ubicado en la parte superior, utilizando las opciones *Insert -> Cell Above/Below*; por defecto, se producirá una Celda de Código, pero ésta puede ser cambiada al tipo Texto a través del menú desplegable en la parte superior, el cual permite seleccionar entre *Code* o *Markdown* (Texto).\n",
    "\n",
    "Cabe destacar que las Celdas de Texto funcionan a través del [Lenguaje Markdown](https://en.wikipedia.org/wiki/Markdown), utilizado normalmente para formatear e interpretar párrafos de texto de forma sencilla. Aunque para el desarrollo del curso no es necesario aprender las especificaciones del lenguaje, es una buena idea [entender su estructura general](https://en.support.wordpress.com/markdown-quick-reference/) si deseas ahondar en la escritura de un *Jupyter Notebook*.\n",
    "\n",
    "#### Celdas de Código y sus Resultados\n",
    "Una de las características más útiles de un *Jupyter Notebook* es la capacidad de almacenar, en una misma celda, un resultado en particular (tablas, gráficas, mapas, etc.) y el código utilizado para generarlo. Por ejemplo, en la siguiente celda se encuentra un comando que permite arrojar un mensaje escrito, el cual aparece como tal al inferior de la misma:"
   ]
  },
  {
   "cell_type": "code",
   "execution_count": 2,
   "metadata": {},
   "outputs": [
    {
     "name": "stdout",
     "output_type": "stream",
     "text": [
      "¡Hola mundo!\n"
     ]
    }
   ],
   "source": [
    "print('¡Hola mundo!')"
   ]
  },
  {
   "cell_type": "markdown",
   "metadata": {},
   "source": [
    "Es posible observar que la celda, de forma automática, identifica con ciertos colores determinadas partes del código, a partir de la función que cumplen dentro del Lenguaje *Python*. Para empezar a comprender los detalles detrás de esto, vale la pena estudiar más a fondo cómo funciona *Python*.\n",
    "___\n",
    "### Python\n"
   ]
  },
  {
   "cell_type": "markdown",
   "metadata": {},
   "source": [
    "La razón por la cual el curso se enfoca en el Lenguaje de Programación *Python* es debido a que éste, poco ha poco, ha estado adquiriendo cada vez más relevancia en el mundo profesional, principalmente en el relacionado a la Ciencia de Datos. Citando algunos ejemplos, la plataforma *Dropbox* se encuentra [programada principalmente a través de *Python*](https://www.quora.com/How-does-dropbox-use-python-What-features-are-implemented-in-it-any-tangentially-related-material?share=1); existen Sistemas de Control Satelitales de la NASA que [dependen de *Python*](https://www.python.org/about/success/usa/); también, existe una gran cantidad de trabajo en las Ciencias realizado con *Python*, como [investigación en Astronomía](https://www.youtube.com/watch?v=mLuIB8aW2KA) o [cursos en Economía](https://lectures.quantecon.org/) desarrollados por ganadores del Premio Nobel.\n",
    "\n",
    "*Python*, junto con otros lenguajes de *Código Abierto*, tales como el Lenguaje *R*, se ha convertido en una de las opciones más sólidas al momento de incursionar en la Ciencia de Datos. Existe una creciente comunidad científica (como lo demuestran [algunos](https://scipy.org/) [proyectos](https://pydata.org/) recientes), formada tanto por el sector público como privado, que constantemente trabajan en mejorar las capacidades del lenguaje en esta área (a través de las *Librerías*). En términos de Datos Geoespaciales, tanto ArcGIS como QGIS han adoptado este lenguaje como el estándar para la creación de complementos.\n",
    "\n",
    "Lo anterior permite ver que tener conocimiento en *Python* es una herramienta importante, tanto en términos laborales como académicos, pues permite enlazarse con múltiples estructuras de trabajo y aportar aún más de lo que se podría con herramientas tradicionales.\n",
    "\n",
    "___\n",
    "\n",
    "### Tipos de Datos\n",
    "*Python* es capaz de procesar, por defecto, múltiples tipos de datos. Conocer el tipo de dato con el que se está trabajando al momento de programar es de gran importancia, pues esto dará paso al tipo de operaciones y procesamientos que será posible realizar. Algunos de los tipos existentes en *Python* son:"
   ]
  },
  {
   "cell_type": "code",
   "execution_count": 3,
   "metadata": {},
   "outputs": [
    {
     "data": {
      "text/plain": [
       "5"
      ]
     },
     "execution_count": 3,
     "metadata": {},
     "output_type": "execute_result"
    }
   ],
   "source": [
    "# Número Entero (Integer)\n",
    "# Representan números sin decimales; pueden ser tan largos como sea necesario\n",
    "5"
   ]
  },
  {
   "cell_type": "code",
   "execution_count": 4,
   "metadata": {},
   "outputs": [
    {
     "data": {
      "text/plain": [
       "5.42"
      ]
     },
     "execution_count": 4,
     "metadata": {},
     "output_type": "execute_result"
    }
   ],
   "source": [
    "# Número Real (Float)\n",
    "# Representan números con decimales; se comportan diferente a los números enterios\n",
    "5.42"
   ]
  },
  {
   "cell_type": "code",
   "execution_count": 5,
   "metadata": {},
   "outputs": [
    {
     "data": {
      "text/plain": [
       "(5+3j)"
      ]
     },
     "execution_count": 5,
     "metadata": {},
     "output_type": "execute_result"
    }
   ],
   "source": [
    "# Número Complejo (Complex)\n",
    "# Poseen una componente real y una imaginaria, representada a través de la letra 'j'\n",
    "5 + 3j"
   ]
  },
  {
   "cell_type": "code",
   "execution_count": 6,
   "metadata": {},
   "outputs": [
    {
     "data": {
      "text/plain": [
       "'Cinco'"
      ]
     },
     "execution_count": 6,
     "metadata": {},
     "output_type": "execute_result"
    }
   ],
   "source": [
    "# Cadena de Texto (String)\n",
    "# Cualquier conjunto de caracteres, siempre y cuando se encuentre envuelto por comillas simples ('') o dobles (\"\")\n",
    "'Cinco'"
   ]
  },
  {
   "cell_type": "code",
   "execution_count": 7,
   "metadata": {},
   "outputs": [
    {
     "data": {
      "text/plain": [
       "True"
      ]
     },
     "execution_count": 7,
     "metadata": {},
     "output_type": "execute_result"
    }
   ],
   "source": [
    "# Dato Lógico o Booleano (Boolean)\n",
    "# Dato binario que únicamente puede adquirir dos tipos de valores: Verdadero (True) o Falso (False)\n",
    "True"
   ]
  },
  {
   "cell_type": "code",
   "execution_count": 8,
   "metadata": {},
   "outputs": [],
   "source": [
    "# Dato Vacío (None)\n",
    "# Representa la ausencia de cualquier tipo de dato o informacíon, explícitamente a través de la palabra 'None'\n",
    "None"
   ]
  },
  {
   "cell_type": "markdown",
   "metadata": {},
   "source": [
    "Como tal, al momento de trabajar datos, *Python* no interpretará de la misma manera un `5` (Número Entero), un `5.0` (Número Real) y un `'5'` (Cadena de Texto); es importante verificar, antes de realizar cualquier procesamiento, que el dato utilizado se encuentre en el tipo correcto o necesario.\n",
    "\n",
    "##### Casting de Variables\n",
    "En algunos casos, el simple hecho de redefinir el tipo de un dato puede resultar una labor tardada y compleja, por lo que prefiere evadirse; en estas situaciones, puede resultar pertinente *forzar* al dato a ser de cierto tipo, esto es, momentáneamente obligar al dato a comportarse de cierta manera, en función de la operación o tarea a realizar.\n",
    "\n",
    "Esto se consigue rápidamente envolviendo al dato en cuestión entre unos Paréntesis `()` precedidos por el nombre del tipo de dato que se desee obtener. Por ejemplo, si se busca que el Número Entero `5` actúe como un Número Real:"
   ]
  },
  {
   "cell_type": "code",
   "execution_count": 9,
   "metadata": {},
   "outputs": [
    {
     "data": {
      "text/plain": [
       "5.0"
      ]
     },
     "execution_count": 9,
     "metadata": {},
     "output_type": "execute_result"
    }
   ],
   "source": [
    "# Casting a Número Real\n",
    "float(5)"
   ]
  },
  {
   "cell_type": "markdown",
   "metadata": {},
   "source": [
    "Claro está que el dato original debe de cumplir con determinadas condiciones para poder ser forzada a algún tipo de variable. Por ejemplo, la Cadena de Texto `'Cinco'` no puede ser forzada a ser un Número Entero, pero sí la cadena `'5'`:"
   ]
  },
  {
   "cell_type": "code",
   "execution_count": 10,
   "metadata": {},
   "outputs": [
    {
     "data": {
      "text/plain": [
       "5"
      ]
     },
     "execution_count": 10,
     "metadata": {},
     "output_type": "execute_result"
    }
   ],
   "source": [
    "# Casting a Número Entero\n",
    "int('5')"
   ]
  },
  {
   "cell_type": "markdown",
   "metadata": {},
   "source": [
    "Siempre y cuando las condiciones pertinentes se cumplan, casi cualquier tipo de dato puede ser forzado a cualquier otro."
   ]
  },
  {
   "cell_type": "code",
   "execution_count": 11,
   "metadata": {},
   "outputs": [
    {
     "data": {
      "text/plain": [
       "'3.42'"
      ]
     },
     "execution_count": 11,
     "metadata": {},
     "output_type": "execute_result"
    }
   ],
   "source": [
    "# Casting a Cadena de Texto\n",
    "str(3.42)"
   ]
  },
  {
   "cell_type": "markdown",
   "metadata": {},
   "source": [
    "___\n",
    "### Operadores Matemáticos\n",
    "Al igual que con otros Lenguajes de Programación, *Python* se encuentra precargado con diversas operaciones matemáticas que, desde un principio, permiten utilizarlo como una calculadora básica. Los operadores matemáticos básicos en *Python* son:"
   ]
  },
  {
   "cell_type": "code",
   "execution_count": 12,
   "metadata": {},
   "outputs": [
    {
     "data": {
      "text/plain": [
       "8"
      ]
     },
     "execution_count": 12,
     "metadata": {},
     "output_type": "execute_result"
    }
   ],
   "source": [
    "# Suma (+)\n",
    "5 + 3"
   ]
  },
  {
   "cell_type": "code",
   "execution_count": 13,
   "metadata": {},
   "outputs": [
    {
     "data": {
      "text/plain": [
       "3"
      ]
     },
     "execution_count": 13,
     "metadata": {},
     "output_type": "execute_result"
    }
   ],
   "source": [
    "# Resta (-)\n",
    "10 - 7"
   ]
  },
  {
   "cell_type": "code",
   "execution_count": 14,
   "metadata": {},
   "outputs": [
    {
     "data": {
      "text/plain": [
       "27"
      ]
     },
     "execution_count": 14,
     "metadata": {},
     "output_type": "execute_result"
    }
   ],
   "source": [
    "# Multiplicación (*)\n",
    "3 * 9"
   ]
  },
  {
   "cell_type": "code",
   "execution_count": 15,
   "metadata": {},
   "outputs": [
    {
     "data": {
      "text/plain": [
       "4.0"
      ]
     },
     "execution_count": 15,
     "metadata": {},
     "output_type": "execute_result"
    }
   ],
   "source": [
    "# División (/)\n",
    "# ¡Importante! Notar como el resultado es un Número Real (Float), aún cuando podría ser un entero\n",
    "16 / 4"
   ]
  },
  {
   "cell_type": "code",
   "execution_count": 16,
   "metadata": {},
   "outputs": [
    {
     "data": {
      "text/plain": [
       "3"
      ]
     },
     "execution_count": 16,
     "metadata": {},
     "output_type": "execute_result"
    }
   ],
   "source": [
    "# División tipo 'Floor' (//)\n",
    "# Si el resultado es un decimal, automáticamente es redondeado al entero menor más cercano.\n",
    "10 // 3"
   ]
  },
  {
   "cell_type": "code",
   "execution_count": 17,
   "metadata": {},
   "outputs": [
    {
     "data": {
      "text/plain": [
       "25"
      ]
     },
     "execution_count": 17,
     "metadata": {},
     "output_type": "execute_result"
    }
   ],
   "source": [
    "# Potencia (**)\n",
    "5 ** 2"
   ]
  },
  {
   "cell_type": "code",
   "execution_count": 18,
   "metadata": {},
   "outputs": [
    {
     "data": {
      "text/plain": [
       "1"
      ]
     },
     "execution_count": 18,
     "metadata": {},
     "output_type": "execute_result"
    }
   ],
   "source": [
    "# Módulo (%)\n",
    "# Operación que devuelve el residuo de una división\n",
    "10 % 3"
   ]
  },
  {
   "cell_type": "markdown",
   "metadata": {},
   "source": [
    "Las operaciones anteriores pueden ser utilizadas de múltiples formas por sí mismas, y siguen las reglas existentes en otros Lenguajes de Programación. Por ejemplo, las reglas de [Jerarquía de Operaciones](http://www.funsepa.net/guatemala/docs/JERARQUIA%20DE%20OPERACIONES.pdf) son obedecidas automáticamente por *Python*:"
   ]
  },
  {
   "cell_type": "code",
   "execution_count": 19,
   "metadata": {},
   "outputs": [
    {
     "data": {
      "text/plain": [
       "23"
      ]
     },
     "execution_count": 19,
     "metadata": {},
     "output_type": "execute_result"
    }
   ],
   "source": [
    "# Primero se realiza la multiplicación y después la suma, tal y como lo dicta la Jerarquía de Operaciones.\n",
    "5 + 2 * 9"
   ]
  },
  {
   "cell_type": "markdown",
   "metadata": {},
   "source": [
    "Como tal, también es posible utilizar Paréntesis `()` para indicar puntualmente a *Python* el orden en que se desea se realicen las operaciones; es importante notar que únicamente los paréntesis sirven este propósito, ya que los Corchetes `[]` y Llaves `{}` tienen otra función dentro del lenguaje, mismo que se estudiará más adelante."
   ]
  },
  {
   "cell_type": "code",
   "execution_count": 20,
   "metadata": {},
   "outputs": [
    {
     "data": {
      "text/plain": [
       "63"
      ]
     },
     "execution_count": 20,
     "metadata": {},
     "output_type": "execute_result"
    }
   ],
   "source": [
    "# Gracias a la adición de los paréntesis, Python realiza la operación en un orden diferente.\n",
    "(5 + 2) * 9"
   ]
  },
  {
   "cell_type": "markdown",
   "metadata": {},
   "source": [
    "___\n",
    "### Declaración de Variables\n",
    "Una de las funciones más básicas de *Python* es la capacidad de asignarle un nombre en particular a diferentes \"cosas\", u objetos, mismmas que son llamadas como *Variables* al momento de escribir código. Esta asignación se realiza a través del signo igual `=` y, en esencia, casi cualquier nombre puede ser utilizado para asignar una variable. Por ejemplo:"
   ]
  },
  {
   "cell_type": "code",
   "execution_count": 21,
   "metadata": {},
   "outputs": [],
   "source": [
    "# Asignación a través del signo '='\n",
    "a = 3"
   ]
  },
  {
   "cell_type": "markdown",
   "metadata": {},
   "source": [
    "En la celda anterior, se estableció que el nombre de `a` corresponderá al Número Entero `3`; en otras palabras, de ahora en adelante, cada vez que se utilice el nombre `a`, *Python* automáticamente deberá de entender que en realidad se está refiriendo al número tres. Gracias a esta asignación, la variable puede ser llamada en cualquier momento del código:"
   ]
  },
  {
   "cell_type": "code",
   "execution_count": 22,
   "metadata": {},
   "outputs": [
    {
     "data": {
      "text/plain": [
       "3"
      ]
     },
     "execution_count": 22,
     "metadata": {},
     "output_type": "execute_result"
    }
   ],
   "source": [
    "# Escribir por si misma el nombre de una variable implica llamar a ésta\n",
    "a"
   ]
  },
  {
   "cell_type": "markdown",
   "metadata": {},
   "source": [
    "Dentro de las Ciencias Computacionales, *Python* recibe el nombre de *Lenguaje Dinámico* que, entre otras cosas, implica que el valor de cualquier variable puede ser asignado y alterado en cualquier momento del código:"
   ]
  },
  {
   "cell_type": "code",
   "execution_count": 23,
   "metadata": {},
   "outputs": [
    {
     "data": {
      "text/plain": [
       "500"
      ]
     },
     "execution_count": 23,
     "metadata": {},
     "output_type": "execute_result"
    }
   ],
   "source": [
    "# En este caso, se está asignando un nuevo valor a la Variable 'a'\n",
    "a = 500\n",
    "a"
   ]
  },
  {
   "cell_type": "markdown",
   "metadata": {},
   "source": [
    "De ahora en adelante, *Python* ha olvidado completamente que en algún momento `a` tenía el valor de `3`, entendiendo completamente que ahora es igual a `500`. Otra ventaja del dinamismo de *Python* es que el Tipo de Dato al que se asigna cada variable puede cambiar; por ejemplo, si se requiere, `a` puede ser cambiado de un Número Entero a una Cadena de Texto simplemente realizando la asignación correspondiente:"
   ]
  },
  {
   "cell_type": "code",
   "execution_count": 24,
   "metadata": {},
   "outputs": [
    {
     "data": {
      "text/plain": [
       "'Tlaxcala'"
      ]
     },
     "execution_count": 24,
     "metadata": {},
     "output_type": "execute_result"
    }
   ],
   "source": [
    "# Ahora 'a' será igual a una Cadena de Texto, y Python habrá olvidado que en algún momento fue un Número Entero\n",
    "a = 'Tlaxcala'\n",
    "a"
   ]
  },
  {
   "cell_type": "markdown",
   "metadata": {},
   "source": [
    "Como se mencionó anteriormente, casi cualquier nombre puede ser utilizado al momento de asignar una variable:"
   ]
  },
  {
   "cell_type": "code",
   "execution_count": 25,
   "metadata": {},
   "outputs": [],
   "source": [
    "pastel = 5"
   ]
  },
  {
   "cell_type": "markdown",
   "metadata": {},
   "source": [
    "Además, en una variable puede ser almacenada el resultado de una operación o algoritmo en particular, facilitando su acceso en futuras partes del código:"
   ]
  },
  {
   "cell_type": "code",
   "execution_count": 26,
   "metadata": {},
   "outputs": [
    {
     "data": {
      "text/plain": [
       "196.0"
      ]
     },
     "execution_count": 26,
     "metadata": {},
     "output_type": "execute_result"
    }
   ],
   "source": [
    "cereza = (((5 + 2) * (9 - 3)) / 3 ) ** 2\n",
    "cereza"
   ]
  },
  {
   "cell_type": "markdown",
   "metadata": {},
   "source": [
    "Por último, una variable, dado que se encuentra asignada a un valor o dato en particular, puede ser utilizada en partes posteriores del código para realizar alguna otra operación o ejecutar algún algoritmo en particular:"
   ]
  },
  {
   "cell_type": "code",
   "execution_count": 27,
   "metadata": {},
   "outputs": [
    {
     "data": {
      "text/plain": [
       "980.0"
      ]
     },
     "execution_count": 27,
     "metadata": {},
     "output_type": "execute_result"
    }
   ],
   "source": [
    "pastel * cereza"
   ]
  },
  {
   "cell_type": "markdown",
   "metadata": {},
   "source": [
    "___\n",
    "### Estructuras de Datos\n",
    "En Programación, se le conoce como [Estructura de Datos](https://en.wikipedia.org/wiki/Data_structure) a toda forma de organizar un conjunto de datos de forma que sea más sencillo almacenarlos, utilizarlos y modificarlos. En esencia, se trata de cualquier estructura que permita dar cierta lógica al orden en que son presentados los datos o, por lo menos, agruparlos dentro de un mismo conjunto y, de esta forma, facilitar la forma en la que son utilizados.\n",
    "\n",
    "Las Estructuras de Datos son comúnes en todos los Lenguajes de Programación; dentro de *Python*, existen por lo menos cuatro estructuras diferentes, las cuales cumplen objetivos diferentes en función de lo que se necesite utilizar o lo que se desee alcanzar.\n",
    "\n",
    "##### Listas (List)\n",
    "Las Listas, o `list` (conocidas en otros Lenguajes de Programación como *Arrays*), son de las Estructuras de Datos más básicas existentes. Pueden entenderse como colección de valores ordenados, agrupados dentro de una misma estructura; dentro de *Python*, una lista se representa envuelta entre Corchetes `[]`, separando cada valor a través de una coma:"
   ]
  },
  {
   "cell_type": "code",
   "execution_count": 28,
   "metadata": {},
   "outputs": [
    {
     "data": {
      "text/plain": [
       "[1, 2, 3, 4, 5]"
      ]
     },
     "execution_count": 28,
     "metadata": {},
     "output_type": "execute_result"
    }
   ],
   "source": [
    "# Definiendo a la variable 'lista_1' una lista de los números del 1 al 5\n",
    "lista_1 = [1 , 2 , 3 , 4 , 5]\n",
    "lista_1"
   ]
  },
  {
   "cell_type": "markdown",
   "metadata": {},
   "source": [
    "Esta estructura ofrece la ventaja de poder combinar diferentes Tipos de Datos sin mayor dificultad, generando Listas Mixtas:"
   ]
  },
  {
   "cell_type": "code",
   "execution_count": 29,
   "metadata": {},
   "outputs": [
    {
     "data": {
      "text/plain": [
       "[1, 'a', 4.25, None, False]"
      ]
     },
     "execution_count": 29,
     "metadata": {},
     "output_type": "execute_result"
    }
   ],
   "source": [
    "lista_2 = [1 , 'a' , 4.25 , None , False]\n",
    "lista_2"
   ]
  },
  {
   "cell_type": "markdown",
   "metadata": {},
   "source": [
    "Aunque no son las estructuras más eficientes en términos de memoria computacional, son la forma más sencilla en la cual cierto conjunto de datos puede ser agrupado.\n",
    "\n",
    "##### Tupla (Tuple)\n",
    "Un Tupla, o `tuple`, funciona de forma muy similar a una Lista, en términos de que también funciona como una colección de valores ordenados; sin embargo, la mayor diferencia radica en que, a diferencia de las Listas, el orden en que se asignan los datos es de gran importancia, así como su valor, pues éste no puede ser modificado posterior a su definición.\n",
    "\n",
    "Más adelante se estudiará la forma en la que se puede trabajar con Listas y Tuplas, dando más significancia al párrafo anterior; por ahora, lo más importante a recordar es que, en una Lista, el orden de los datos **NO** importa, mientras que en una Tupla **SÍ** lo hace. Las Tuplas se encuentran envueltas entre Paréntesis `()`, con cada valor separado por una coma:"
   ]
  },
  {
   "cell_type": "code",
   "execution_count": 30,
   "metadata": {},
   "outputs": [
    {
     "data": {
      "text/plain": [
       "(1, 2, 3, 4, 5)"
      ]
     },
     "execution_count": 30,
     "metadata": {},
     "output_type": "execute_result"
    }
   ],
   "source": [
    "# Definiendo a la variable 'tupla_1' una tupla de los números del 1 al 5\n",
    "tupla_1 = (1 , 2 , 3 , 4 , 5)\n",
    "tupla_1"
   ]
  },
  {
   "cell_type": "markdown",
   "metadata": {},
   "source": [
    "Al igual que las listas, una tupla también puede ser mixta, combinando diferentes Tipos de Datos:"
   ]
  },
  {
   "cell_type": "code",
   "execution_count": 31,
   "metadata": {},
   "outputs": [
    {
     "data": {
      "text/plain": [
       "(1, 'a', 4.25, None, False)"
      ]
     },
     "execution_count": 31,
     "metadata": {},
     "output_type": "execute_result"
    }
   ],
   "source": [
    "tupla_2 = (1 , 'a' , 4.25 , None , False)\n",
    "tupla_2"
   ]
  },
  {
   "cell_type": "markdown",
   "metadata": {},
   "source": [
    "##### Diccionario (Dictionary)\n",
    "Un Diccionario, o `dict`, se trata de una Estructura de Datos más compleja. Aunque también busca agrupar varios datos dentro de un mismo conjunto, su función verdadera es servir como una especie de *traductor* entre datos.\n",
    "\n",
    "Formalmente, se definen como una colección (sin importar el orden) de *llaves* (*keys*) y *valores* (*values*), pudiendo ser ambos de cualquier tipo de dato estudiado anteriormente. Para entenderlo más a detalle, primero se definirá un diccionario, el cual se encuentra envuelto por Llaves `{}`, utilizando los dos puntos `:` para definir la relación entre una llave y su valor, y las comas para separar entre cada par de `llave:valor`:"
   ]
  },
  {
   "cell_type": "code",
   "execution_count": 32,
   "metadata": {},
   "outputs": [
    {
     "data": {
      "text/plain": [
       "{'nombre': 'Evaristo', 'apellido': 'Montenegro', 'edad': 56}"
      ]
     },
     "execution_count": 32,
     "metadata": {},
     "output_type": "execute_result"
    }
   ],
   "source": [
    "# Definiendo a la variable 'diccionario_1' un diccinoario con diversas llaves y valores\n",
    "diccionario_1 = {'nombre':'Evaristo' , 'apellido':'Montenegro' , 'edad':56}\n",
    "diccionario_1"
   ]
  },
  {
   "cell_type": "markdown",
   "metadata": {},
   "source": [
    "Puede observarse que en `diccionario_1` se relacciona la llave `'nombre'` (Cadena de Texto) con el valor `'Evaristo'` (Cadena de Texto), la llave `'apellido'` con el valor `'Montenegro'` y la llave `'edad'` (Cadena de Texto) con el valor `56` (Número Entero). En esencia, lo anterior significa que, al momento de utilizar `diccionario_1`, si el usuario escribe `'nombre'`, entonces *Python* deberá de entender `Evaristo`:"
   ]
  },
  {
   "cell_type": "code",
   "execution_count": 33,
   "metadata": {},
   "outputs": [
    {
     "data": {
      "text/plain": [
       "'Evaristo'"
      ]
     },
     "execution_count": 33,
     "metadata": {},
     "output_type": "execute_result"
    }
   ],
   "source": [
    "# Se está llamando una sola parte del diccionario, y no todo éste\n",
    "diccionario_1['nombre']"
   ]
  },
  {
   "cell_type": "markdown",
   "metadata": {},
   "source": [
    "De forma similar, si el usuario escribe `'edad'`, *Python* deberá de entender el número entero `56`:"
   ]
  },
  {
   "cell_type": "code",
   "execution_count": 34,
   "metadata": {},
   "outputs": [
    {
     "data": {
      "text/plain": [
       "56"
      ]
     },
     "execution_count": 34,
     "metadata": {},
     "output_type": "execute_result"
    }
   ],
   "source": [
    "diccionario_1['edad']"
   ]
  },
  {
   "cell_type": "markdown",
   "metadata": {},
   "source": [
    "Como tal, los diccionarios pretenden establecer la relación existente entre dos datos, de forma que la conexión entre ambos sea más sencilla; de forma muy simple, podrían entenderse como una especie de traductor entre datos pues, cada que se escriba *llave*, el lenguaje debe de entender *valor*. Los diccionarios pueden definir una gran cantidad de datos y conjuntos, por ejemplo:"
   ]
  },
  {
   "cell_type": "code",
   "execution_count": 35,
   "metadata": {},
   "outputs": [
    {
     "data": {
      "text/plain": [
       "{'Pepe': 32,\n",
       " 'Ramona': 21,\n",
       " 'Nicolasio': 25,\n",
       " 'Tulia': 34,\n",
       " 'Isidoro': 42,\n",
       " 'Julia': 26}"
      ]
     },
     "execution_count": 35,
     "metadata": {},
     "output_type": "execute_result"
    }
   ],
   "source": [
    "# Definiendo a la variable 'edades' un diccionario del tipo nombre:edad\n",
    "edades = {'Pepe':32 , 'Ramona':21 , 'Nicolasio':25 , 'Tulia':34 , 'Isidoro':42 , 'Julia':26}\n",
    "edades"
   ]
  },
  {
   "cell_type": "markdown",
   "metadata": {},
   "source": [
    "Es importante notar que, dentro de un Diccionario, las *llaves* forzosamente deben de ser únicas, es decir, no pueden repetirse múltiples veces; por otra parte, los *valores* pueden ser repetidos cuantas veces como se necesite definir."
   ]
  },
  {
   "cell_type": "code",
   "execution_count": 36,
   "metadata": {},
   "outputs": [
    {
     "data": {
      "text/plain": [
       "{'Pepe': 8, 'Ramona': 7, 'Nicolasio': 6, 'Tulia': 6, 'Isidoro': 7, 'Julia': 8}"
      ]
     },
     "execution_count": 36,
     "metadata": {},
     "output_type": "execute_result"
    }
   ],
   "source": [
    "calificaciones = {'Pepe':8 , 'Ramona':7 , 'Nicolasio':6 , 'Tulia':6 , 'Isidoro':7 , 'Julia':8}\n",
    "calificaciones"
   ]
  },
  {
   "cell_type": "markdown",
   "metadata": {},
   "source": [
    "##### Conjuntos (Set)\n",
    "Por último, los conjuntos, o `set`, pueden entenderse como un derivado de las estructuras anteriores. En sí, su único objetivo es determinar cuáles son los elementos existentes dentro de una estructura de datos en particular. En la siguiente celda puede observarse su naturaleza:"
   ]
  },
  {
   "cell_type": "code",
   "execution_count": 37,
   "metadata": {},
   "outputs": [
    {
     "data": {
      "text/plain": [
       "{1, 2, 3, 4, 5}"
      ]
     },
     "execution_count": 37,
     "metadata": {},
     "output_type": "execute_result"
    }
   ],
   "source": [
    "set(lista_1)"
   ]
  },
  {
   "cell_type": "markdown",
   "metadata": {},
   "source": [
    "Al momento de rodear la variable `lista_1`, creada anteriormente, con `set()` ,*Python* determina qué elementos existen dentro de esta lista, y las arroja en una nueva estructura rodeada por Llaves `{}` y separando cada elemento a través de comas; en sí, el orden de los elementos carece de importancia.\n",
    "\n",
    "La ventaja que provee ésta es que facilita enormemente, tanto para el usuario como para la computadora (en términos de eficiencia), las tareas relacionadas con determinar si un elemento existe o no dentro de la estructura. Como tal, `set()` únicamente encontrará valores únicos, es decir, si un mismo elemento se repite múltiples veces dentro de una estructura, `set()` lo mostrará sólo una vez."
   ]
  },
  {
   "cell_type": "code",
   "execution_count": 38,
   "metadata": {},
   "outputs": [
    {
     "data": {
      "text/plain": [
       "{1, 2, 3}"
      ]
     },
     "execution_count": 38,
     "metadata": {},
     "output_type": "execute_result"
    }
   ],
   "source": [
    "# Creación de una Tupla\n",
    "tmp = (1 , 2 , 3 , 1 , 2 , 3)\n",
    "\n",
    "# Obtención de su 'Set'\n",
    "set(tmp)"
   ]
  },
  {
   "cell_type": "markdown",
   "metadata": {},
   "source": [
    "Dentro de *Python*, cumple la función de ser una herramienta para facilitar, en términos computacionales, la ejecución de ciertos algoritmos. Como tal, aunque sólo es utilizada en situaciones muy particulares, conocer su existencia puede ser de gran utilidad al momento de escribir algoritmos muy complejos."
   ]
  },
  {
   "cell_type": "markdown",
   "metadata": {},
   "source": [
    "___\n",
    "### Trabajando con Estructuras de Datos\n",
    "Las Estructuras de Datos poseen múltiples conceptos particulares que permiten manipularlas y utilizarlas dinámicamente al momento de escribir código; todos éstos se traducen en técnicas y estándares de *Python* que son de utilidad para manipular los datos.\n",
    "\n",
    "##### Indexación (Indexing)\n",
    "Todos los elementos dentro de una Estructura de Datos poseen, por definición, un *Índice*, es decir, una posición dentro del grupo. Recordando la variable `lista_1` creada anteriormente:"
   ]
  },
  {
   "cell_type": "code",
   "execution_count": 39,
   "metadata": {},
   "outputs": [
    {
     "data": {
      "text/plain": [
       "[1, 2, 3, 4, 5]"
      ]
     },
     "execution_count": 39,
     "metadata": {},
     "output_type": "execute_result"
    }
   ],
   "source": [
    "lista_1"
   ]
  },
  {
   "cell_type": "markdown",
   "metadata": {},
   "source": [
    "Dentro de esta lista, se puede observar con claridad que el primer elemento es el número `1`, el segundo el número `2`, y así sucesivamente. Si en algún momento el código se desea trabajar únicamente con el primer elemento de la lista, éste puede ser llamado sencillamente de la siguiente forma:"
   ]
  },
  {
   "cell_type": "code",
   "execution_count": 40,
   "metadata": {},
   "outputs": [
    {
     "data": {
      "text/plain": [
       "1"
      ]
     },
     "execution_count": 40,
     "metadata": {},
     "output_type": "execute_result"
    }
   ],
   "source": [
    "lista_1[0]"
   ]
  },
  {
   "cell_type": "markdown",
   "metadata": {},
   "source": [
    "Como regla general, la lógica para llamar un elemento de una Estructura de Datos a través de su índice es `estructura[índice]`, envolviendo entre corchetes el número de la posición que se desea utilizar; cabe destacar que *Python*, en todos los casos, comienza su numeración a partir del cero y, como tal, el primer elemento tiene el índice `0`, el segundo el índice `1`, y así sucesivamente (La regla es $índice = n - 1$, siendo $n$ la posición que se desee accesar).\n",
    "\n",
    "La lógica anterior funciona también para las tuplas; si se quisiera llamar el tercer elemento de `tupla_1`:"
   ]
  },
  {
   "cell_type": "code",
   "execution_count": 41,
   "metadata": {},
   "outputs": [
    {
     "data": {
      "text/plain": [
       "3"
      ]
     },
     "execution_count": 41,
     "metadata": {},
     "output_type": "execute_result"
    }
   ],
   "source": [
    "tupla_1[2]"
   ]
  },
  {
   "cell_type": "markdown",
   "metadata": {},
   "source": [
    "En el caso de los diccionarios, las *llaves* funcionan como los índices que deben de colocarse dentro de los corchetes y, como se describió anteriormente, *Python* arrojará cualquier *valor* asociado a esa *llave*:"
   ]
  },
  {
   "cell_type": "code",
   "execution_count": 42,
   "metadata": {},
   "outputs": [
    {
     "data": {
      "text/plain": [
       "'Evaristo'"
      ]
     },
     "execution_count": 42,
     "metadata": {},
     "output_type": "execute_result"
    }
   ],
   "source": [
    "diccionario_1['nombre']"
   ]
  },
  {
   "cell_type": "markdown",
   "metadata": {},
   "source": [
    "#####  Separación (Slicing)\n",
    "En algunos casos no se necesita trabajar con sólo uno de los valores de la Estructura de Datos, sino que resulta de mayor utilidad obtener un subconjunto del mismo. La lógica en *Python* para aplicar este concepto es `estructura[índice_inicial:posición_final:saltos]`, por ejemplo, si se quisiera obtener del primer al tercer elemento de la `lista_1`, se tendría que:"
   ]
  },
  {
   "cell_type": "code",
   "execution_count": 43,
   "metadata": {},
   "outputs": [
    {
     "data": {
      "text/plain": [
       "[1, 2, 3]"
      ]
     },
     "execution_count": 43,
     "metadata": {},
     "output_type": "execute_result"
    }
   ],
   "source": [
    "lista_1[0:3:1]"
   ]
  },
  {
   "cell_type": "markdown",
   "metadata": {},
   "source": [
    "En la mayoría de los casos, no es necesario especificar el número de saltos, pues *Python* automáticamente entenderá que debe obtener los elementos de forma secuencial cuando no se encuentre establecido. Como tal, el resultado anterior también puede ser obtenido utilizando:"
   ]
  },
  {
   "cell_type": "code",
   "execution_count": 44,
   "metadata": {},
   "outputs": [
    {
     "data": {
      "text/plain": [
       "[1, 2, 3]"
      ]
     },
     "execution_count": 44,
     "metadata": {},
     "output_type": "execute_result"
    }
   ],
   "source": [
    "lista_1[0:3]"
   ]
  },
  {
   "cell_type": "markdown",
   "metadata": {},
   "source": [
    "Por conveniencia, los saltos únicamente se determinan si así lo requiere el subconjunto deseado; por ejemplo, si se desease obtener del primer al quinto elemento de `tupla_1`, dando un salto a cada segundo elemento, se tendría que:"
   ]
  },
  {
   "cell_type": "code",
   "execution_count": 45,
   "metadata": {},
   "outputs": [
    {
     "data": {
      "text/plain": [
       "(1, 3, 5)"
      ]
     },
     "execution_count": 45,
     "metadata": {},
     "output_type": "execute_result"
    }
   ],
   "source": [
    "tupla_1[0:5:2]"
   ]
  },
  {
   "cell_type": "markdown",
   "metadata": {},
   "source": [
    "##### Concatenación (Add)\n",
    "De ser necesario, es posible unir los elementos existentes entre dos listas o dos tuplas de forma sencilla a como se realizaría una suma entre datos:"
   ]
  },
  {
   "cell_type": "code",
   "execution_count": 46,
   "metadata": {},
   "outputs": [
    {
     "data": {
      "text/plain": [
       "[1, 2, 3, 4, 5, 6]"
      ]
     },
     "execution_count": 46,
     "metadata": {},
     "output_type": "execute_result"
    }
   ],
   "source": [
    "lista_a = [1 , 2 , 3]\n",
    "lista_b = [4 , 5 , 6]\n",
    "\n",
    "lista_a + lista_b"
   ]
  },
  {
   "cell_type": "markdown",
   "metadata": {},
   "source": [
    "Cabe destacar que, dada la naturaleza de las Estructuras de Datos, la operación unirá las listas tal cual y como se encuentren definidas, por lo que si existen elementos repetidos entre ellas se repetirán en el resultado final, y éste aparecerá según el mismo orden ya establecido por las listas:"
   ]
  },
  {
   "cell_type": "code",
   "execution_count": 47,
   "metadata": {},
   "outputs": [
    {
     "data": {
      "text/plain": [
       "(2, 3, 4, 5, 3, 4, 5, 6)"
      ]
     },
     "execution_count": 47,
     "metadata": {},
     "output_type": "execute_result"
    }
   ],
   "source": [
    "tupla_a = (2 , 3 , 4 , 5)\n",
    "tupla_b = (3 , 4 , 5 , 6)\n",
    "\n",
    "tupla_a + tupla_b"
   ]
  },
  {
   "cell_type": "markdown",
   "metadata": {},
   "source": [
    "##### Multiplicación (Multiplication)\n",
    "Si se necesitan repetir los elementos existentes dentro de una lista o una tupla múltiples veces, esto se puede conseguir sencillamente realizando una multiplicación a través de un Número Entero:"
   ]
  },
  {
   "cell_type": "code",
   "execution_count": 48,
   "metadata": {},
   "outputs": [
    {
     "data": {
      "text/plain": [
       "[1, 2, 3, 4, 5, 1, 2, 3, 4, 5, 1, 2, 3, 4, 5]"
      ]
     },
     "execution_count": 48,
     "metadata": {},
     "output_type": "execute_result"
    }
   ],
   "source": [
    "lista_1 * 3"
   ]
  },
  {
   "cell_type": "markdown",
   "metadata": {},
   "source": [
    "##### Pertenencia (Membership)\n",
    "Para verificar si algún elemento existe dentro de una Estructura de Datos, puede utilizarse el operador `in`; el resultado de la operación será un *Booleano*, es decir, un dato que determinará si el elemento se encuentra en la estructura (`True`) o no (`False`):"
   ]
  },
  {
   "cell_type": "code",
   "execution_count": 49,
   "metadata": {},
   "outputs": [
    {
     "data": {
      "text/plain": [
       "True"
      ]
     },
     "execution_count": 49,
     "metadata": {},
     "output_type": "execute_result"
    }
   ],
   "source": [
    "3 in lista_1"
   ]
  },
  {
   "cell_type": "markdown",
   "metadata": {},
   "source": [
    "Como se mencionó anteriormente, este tipo de operaciones resultan más sencillas para la computadora si se realizan sobre una Estructura de Datos del tipo `set()`; en el caso de estructuras pequeñas, como las utilizadas hasta ahora, la diferencia entre utilizar la estructura directamente y utilizar `set()` no es significativa, pero, a mayor tamaño, más importante será considerar estos conceptos."
   ]
  },
  {
   "cell_type": "code",
   "execution_count": 50,
   "metadata": {},
   "outputs": [
    {
     "data": {
      "text/plain": [
       "False"
      ]
     },
     "execution_count": 50,
     "metadata": {},
     "output_type": "execute_result"
    }
   ],
   "source": [
    "6 in set(tupla_1)"
   ]
  },
  {
   "cell_type": "markdown",
   "metadata": {},
   "source": [
    "##### Modificación y Adición de Elementos\n",
    "A través de los conceptos estudiados anteriormente, es posible modificar rápidamente cualquiera de los elementos que se encuentran dentro de una Estructura de Datos. Por ejemplo, para la `lista_1`, si se quisiera modificar el primer elemento y cambiarlo por una Cadena de Texto, únicamente se necesita utilizar su índice y el signo igual `=` para la asignación de variables."
   ]
  },
  {
   "cell_type": "code",
   "execution_count": 51,
   "metadata": {},
   "outputs": [],
   "source": [
    "lista_1[0] = 'a'"
   ]
  },
  {
   "cell_type": "markdown",
   "metadata": {},
   "source": [
    "Como tal, de ahora en adelante, el primer elemento de `lista_1` será el nuevo elemento colocado, olvidándose *Python* completamente de que en algún momento existió el Número Entero:"
   ]
  },
  {
   "cell_type": "code",
   "execution_count": 52,
   "metadata": {},
   "outputs": [
    {
     "data": {
      "text/plain": [
       "['a', 2, 3, 4, 5]"
      ]
     },
     "execution_count": 52,
     "metadata": {},
     "output_type": "execute_result"
    }
   ],
   "source": [
    "lista_1"
   ]
  },
  {
   "cell_type": "markdown",
   "metadata": {},
   "source": [
    "Anteriormente se mencionó que la diferencia principal entre una *Lista* y una *Tupla* radicaba en el hecho de que la primera puede ser modificada, mientras que la segunda no. Como tal, si se intentase aplicar la misma lógica para  una tupla (*e.g.* `tupla_1[0] = 'a'`), *Python* mostraría un error especificando que el objeto no puede ser modificado.\n",
    "\n",
    "Por otra parte, en el caso de los *Diccionarios*, también es posible modificar el *valor* al cual se encuentra asociado una *llave*. En el ejemplo anterior, para `diccionario_1` el *valor* asociado a la *llave* `nombre` era `'Evaristo'`; sin embargo, éste puede ser modificado sencillamente siguiendo la misma lógica que con las listas:"
   ]
  },
  {
   "cell_type": "code",
   "execution_count": 53,
   "metadata": {},
   "outputs": [],
   "source": [
    "diccionario_1['nombre'] = 'Isidoro'"
   ]
  },
  {
   "cell_type": "markdown",
   "metadata": {},
   "source": [
    "De ahora en adelante, el *valor* asociado a la *llave* `nombre` será el que acaba de ser definido:"
   ]
  },
  {
   "cell_type": "code",
   "execution_count": 54,
   "metadata": {},
   "outputs": [
    {
     "data": {
      "text/plain": [
       "{'nombre': 'Isidoro', 'apellido': 'Montenegro', 'edad': 56}"
      ]
     },
     "execution_count": 54,
     "metadata": {},
     "output_type": "execute_result"
    }
   ],
   "source": [
    "diccionario_1"
   ]
  },
  {
   "cell_type": "markdown",
   "metadata": {},
   "source": [
    "Una particularidad de los *Diccionarios* es que, a través de esta técnica, también es posible añadir nuevos pares de *llaves* y *valores*, siendo estos añadidos automáticamente al diccionario:"
   ]
  },
  {
   "cell_type": "code",
   "execution_count": 55,
   "metadata": {},
   "outputs": [
    {
     "data": {
      "text/plain": [
       "{'nombre': 'Isidoro',\n",
       " 'apellido': 'Montenegro',\n",
       " 'edad': 56,\n",
       " 'nacionalidad': 'Mexicano'}"
      ]
     },
     "execution_count": 55,
     "metadata": {},
     "output_type": "execute_result"
    }
   ],
   "source": [
    "diccionario_1['nacionalidad'] = 'Mexicano'\n",
    "diccionario_1"
   ]
  },
  {
   "cell_type": "markdown",
   "metadata": {},
   "source": [
    "##### El caso particular de las Cadenas de Texto (String)\n",
    "Dentro de *Python* existe una quinta Estructura de Datos que, aunque normalmente no funciona como tal, puede recibir todas las operaciones aprendidas hasta ahora, siendo éstas las Cadenas de Texto (String). En esencia, una cadena de texto cumple con la definición dada para una estructura, esto es, una organización de un conjunto de datos, siendo estos datos letras.\n",
    "\n",
    "Como tal, si se definiese una variable que contenga exclusivamente una Cadena de Texto:"
   ]
  },
  {
   "cell_type": "code",
   "execution_count": 56,
   "metadata": {},
   "outputs": [],
   "source": [
    "# Definición de la variable 'string_1' con la Cadena de Texto 'México'\n",
    "string_1 = 'México'"
   ]
  },
  {
   "cell_type": "markdown",
   "metadata": {},
   "source": [
    "Puede replicarse todo lo aprendido con el resto de las Estructuras de Datos:"
   ]
  },
  {
   "cell_type": "code",
   "execution_count": 57,
   "metadata": {},
   "outputs": [
    {
     "data": {
      "text/plain": [
       "{'M', 'c', 'i', 'o', 'x', 'é'}"
      ]
     },
     "execution_count": 57,
     "metadata": {},
     "output_type": "execute_result"
    }
   ],
   "source": [
    "# Obtención de 'set()'\n",
    "set(string_1)"
   ]
  },
  {
   "cell_type": "code",
   "execution_count": 58,
   "metadata": {},
   "outputs": [
    {
     "data": {
      "text/plain": [
       "'M'"
      ]
     },
     "execution_count": 58,
     "metadata": {},
     "output_type": "execute_result"
    }
   ],
   "source": [
    "# Indexing\n",
    "string_1[0]"
   ]
  },
  {
   "cell_type": "code",
   "execution_count": 59,
   "metadata": {},
   "outputs": [
    {
     "data": {
      "text/plain": [
       "'Méx'"
      ]
     },
     "execution_count": 59,
     "metadata": {},
     "output_type": "execute_result"
    }
   ],
   "source": [
    "# Slicing\n",
    "string_1[0:3]"
   ]
  },
  {
   "cell_type": "code",
   "execution_count": 60,
   "metadata": {},
   "outputs": [
    {
     "data": {
      "text/plain": [
       "'MéxicoMágico'"
      ]
     },
     "execution_count": 60,
     "metadata": {},
     "output_type": "execute_result"
    }
   ],
   "source": [
    "string_2 = 'Mágico'\n",
    "\n",
    "# Add\n",
    "string_1 + string_2"
   ]
  },
  {
   "cell_type": "code",
   "execution_count": 61,
   "metadata": {},
   "outputs": [
    {
     "data": {
      "text/plain": [
       "'MéxicoMéxicoMéxico'"
      ]
     },
     "execution_count": 61,
     "metadata": {},
     "output_type": "execute_result"
    }
   ],
   "source": [
    "# Multiplication\n",
    "string_1 * 3"
   ]
  },
  {
   "cell_type": "code",
   "execution_count": 62,
   "metadata": {},
   "outputs": [
    {
     "data": {
      "text/plain": [
       "True"
      ]
     },
     "execution_count": 62,
     "metadata": {},
     "output_type": "execute_result"
    }
   ],
   "source": [
    "# Membership\n",
    "'M' in string_1"
   ]
  },
  {
   "cell_type": "markdown",
   "metadata": {},
   "source": [
    "Lo anterior nos permite observar un detalle importante de las Cadenas de Texto. En la celda anterior, se está comprobando si el caracter `'M'` pertenece al *string* `'México'`, esto es, si la letra M mayúscula se encuentra en la cadena; para *Python*, `'M'` y `'m'` son entidades completamente diferentes. Como tal, al momento de trabajar con Cadenas de Texto, es importante asegurarse de que se estén utilizando los caractéres correctos."
   ]
  },
  {
   "cell_type": "code",
   "execution_count": 63,
   "metadata": {},
   "outputs": [
    {
     "data": {
      "text/plain": [
       "False"
      ]
     },
     "execution_count": 63,
     "metadata": {},
     "output_type": "execute_result"
    }
   ],
   "source": [
    "'m' in string_1"
   ]
  }
 ],
 "metadata": {
  "kernelspec": {
   "display_name": "Python 3",
   "language": "python",
   "name": "python3"
  },
  "language_info": {
   "codemirror_mode": {
    "name": "ipython",
    "version": 3
   },
   "file_extension": ".py",
   "mimetype": "text/x-python",
   "name": "python",
   "nbconvert_exporter": "python",
   "pygments_lexer": "ipython3",
   "version": "3.7.4"
  }
 },
 "nbformat": 4,
 "nbformat_minor": 2
}
